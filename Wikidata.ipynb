{
  "nbformat": 4,
  "nbformat_minor": 0,
  "metadata": {
    "colab": {
      "name": "Wikidata.ipynb",
      "provenance": [],
      "collapsed_sections": []
    },
    "kernelspec": {
      "name": "python3",
      "display_name": "Python 3"
    },
    "language_info": {
      "name": "python"
    }
  },
  "cells": [
    {
      "cell_type": "code",
      "source": [
        "!pip install qwikidata"
      ],
      "metadata": {
        "colab": {
          "base_uri": "https://localhost:8080/"
        },
        "id": "sjPzk5-gFk0s",
        "outputId": "b92c6f00-009f-46bf-b957-71121cd9cc08"
      },
      "execution_count": 1,
      "outputs": [
        {
          "output_type": "stream",
          "name": "stdout",
          "text": [
            "Looking in indexes: https://pypi.org/simple, https://us-python.pkg.dev/colab-wheels/public/simple/\n",
            "Requirement already satisfied: qwikidata in /usr/local/lib/python3.7/dist-packages (0.4.1)\n",
            "Requirement already satisfied: requests in /usr/local/lib/python3.7/dist-packages (from qwikidata) (2.23.0)\n",
            "Requirement already satisfied: mypy-extensions in /usr/local/lib/python3.7/dist-packages (from qwikidata) (0.4.3)\n",
            "Requirement already satisfied: idna<3,>=2.5 in /usr/local/lib/python3.7/dist-packages (from requests->qwikidata) (2.10)\n",
            "Requirement already satisfied: certifi>=2017.4.17 in /usr/local/lib/python3.7/dist-packages (from requests->qwikidata) (2022.6.15)\n",
            "Requirement already satisfied: urllib3!=1.25.0,!=1.25.1,<1.26,>=1.21.1 in /usr/local/lib/python3.7/dist-packages (from requests->qwikidata) (1.24.3)\n",
            "Requirement already satisfied: chardet<4,>=3.0.2 in /usr/local/lib/python3.7/dist-packages (from requests->qwikidata) (3.0.4)\n"
          ]
        }
      ]
    },
    {
      "cell_type": "code",
      "source": [
        "!pip install textblob"
      ],
      "metadata": {
        "colab": {
          "base_uri": "https://localhost:8080/"
        },
        "id": "QPL2OoAiV1t9",
        "outputId": "211a47a6-4f69-4f18-a37b-fd8db521e732"
      },
      "execution_count": 8,
      "outputs": [
        {
          "output_type": "stream",
          "name": "stdout",
          "text": [
            "Looking in indexes: https://pypi.org/simple, https://us-python.pkg.dev/colab-wheels/public/simple/\n",
            "Requirement already satisfied: textblob in /usr/local/lib/python3.7/dist-packages (0.15.3)\n",
            "Requirement already satisfied: nltk>=3.1 in /usr/local/lib/python3.7/dist-packages (from textblob) (3.7)\n",
            "Requirement already satisfied: regex>=2021.8.3 in /usr/local/lib/python3.7/dist-packages (from nltk>=3.1->textblob) (2022.6.2)\n",
            "Requirement already satisfied: click in /usr/local/lib/python3.7/dist-packages (from nltk>=3.1->textblob) (7.1.2)\n",
            "Requirement already satisfied: joblib in /usr/local/lib/python3.7/dist-packages (from nltk>=3.1->textblob) (1.1.0)\n",
            "Requirement already satisfied: tqdm in /usr/local/lib/python3.7/dist-packages (from nltk>=3.1->textblob) (4.64.0)\n"
          ]
        }
      ]
    },
    {
      "cell_type": "markdown",
      "source": [
        "# **Wikidata Api**"
      ],
      "metadata": {
        "id": "EYER5qQeyKLz"
      }
    },
    {
      "cell_type": "code",
      "execution_count": 7,
      "metadata": {
        "id": "mZs83yTOFbIP"
      },
      "outputs": [],
      "source": [
        "import requests\n",
        "import json\n",
        "url = \"https://www.wikidata.org/w/api.php\"\n",
        "\n",
        "data='_'\n",
        "def wiki(text):\n",
        "  query = text\n",
        "  try:\n",
        "    params = {\n",
        "          \"action\" : \"wbsearchentities\",\n",
        "          \"language\" : \"en\",\n",
        "          \"format\" : \"json\",\n",
        "          \"search\" : query \n",
        "          }\n",
        "        \n",
        "    data = requests.get(url,params=params)\n",
        "    return (data.json()[\"search\"][0][\"description\"])\n",
        "  except:\n",
        "    return(\"Not found\")\n"
      ]
    },
    {
      "cell_type": "code",
      "source": [
        "import pandas as pd\n",
        "#Read the dataset\n",
        "filee = \"data.csv\"\n",
        "df = pd.read_csv(filee)\n"
      ],
      "metadata": {
        "id": "RXodeFzhPkV4"
      },
      "execution_count": 2,
      "outputs": []
    },
    {
      "cell_type": "code",
      "source": [
        "df=df[df.Words.apply(lambda x: len(str(x)))>=5] #word length >=5\n",
        "len(df)"
      ],
      "metadata": {
        "colab": {
          "base_uri": "https://localhost:8080/"
        },
        "id": "UqS-9o1nbsWU",
        "outputId": "9a4d5418-8810-4807-cb89-05242a6f83c1"
      },
      "execution_count": 3,
      "outputs": [
        {
          "output_type": "execute_result",
          "data": {
            "text/plain": [
              "450004"
            ]
          },
          "metadata": {},
          "execution_count": 3
        }
      ]
    },
    {
      "cell_type": "markdown",
      "source": [
        "# **CSV data before augmentation**"
      ],
      "metadata": {
        "id": "RPmKJFJayN9_"
      }
    },
    {
      "cell_type": "code",
      "source": [
        "df"
      ],
      "metadata": {
        "colab": {
          "base_uri": "https://localhost:8080/",
          "height": 424
        },
        "id": "PpljYwtmnzG3",
        "outputId": "e8e74394-26ff-442e-b35f-beeac4e5c927"
      },
      "execution_count": 4,
      "outputs": [
        {
          "output_type": "execute_result",
          "data": {
            "text/plain": [
              "               Words\n",
              "3           10-point\n",
              "5           11-point\n",
              "6           12-point\n",
              "7           16-point\n",
              "8           18-point\n",
              "...              ...\n",
              "466542       zwitter\n",
              "466543    zwitterion\n",
              "466544  zwitterionic\n",
              "466545        Zwolle\n",
              "466546      Zworykin\n",
              "\n",
              "[450004 rows x 1 columns]"
            ],
            "text/html": [
              "\n",
              "  <div id=\"df-e0d4be0c-8078-4475-97a3-4693ea2976be\">\n",
              "    <div class=\"colab-df-container\">\n",
              "      <div>\n",
              "<style scoped>\n",
              "    .dataframe tbody tr th:only-of-type {\n",
              "        vertical-align: middle;\n",
              "    }\n",
              "\n",
              "    .dataframe tbody tr th {\n",
              "        vertical-align: top;\n",
              "    }\n",
              "\n",
              "    .dataframe thead th {\n",
              "        text-align: right;\n",
              "    }\n",
              "</style>\n",
              "<table border=\"1\" class=\"dataframe\">\n",
              "  <thead>\n",
              "    <tr style=\"text-align: right;\">\n",
              "      <th></th>\n",
              "      <th>Words</th>\n",
              "    </tr>\n",
              "  </thead>\n",
              "  <tbody>\n",
              "    <tr>\n",
              "      <th>3</th>\n",
              "      <td>10-point</td>\n",
              "    </tr>\n",
              "    <tr>\n",
              "      <th>5</th>\n",
              "      <td>11-point</td>\n",
              "    </tr>\n",
              "    <tr>\n",
              "      <th>6</th>\n",
              "      <td>12-point</td>\n",
              "    </tr>\n",
              "    <tr>\n",
              "      <th>7</th>\n",
              "      <td>16-point</td>\n",
              "    </tr>\n",
              "    <tr>\n",
              "      <th>8</th>\n",
              "      <td>18-point</td>\n",
              "    </tr>\n",
              "    <tr>\n",
              "      <th>...</th>\n",
              "      <td>...</td>\n",
              "    </tr>\n",
              "    <tr>\n",
              "      <th>466542</th>\n",
              "      <td>zwitter</td>\n",
              "    </tr>\n",
              "    <tr>\n",
              "      <th>466543</th>\n",
              "      <td>zwitterion</td>\n",
              "    </tr>\n",
              "    <tr>\n",
              "      <th>466544</th>\n",
              "      <td>zwitterionic</td>\n",
              "    </tr>\n",
              "    <tr>\n",
              "      <th>466545</th>\n",
              "      <td>Zwolle</td>\n",
              "    </tr>\n",
              "    <tr>\n",
              "      <th>466546</th>\n",
              "      <td>Zworykin</td>\n",
              "    </tr>\n",
              "  </tbody>\n",
              "</table>\n",
              "<p>450004 rows × 1 columns</p>\n",
              "</div>\n",
              "      <button class=\"colab-df-convert\" onclick=\"convertToInteractive('df-e0d4be0c-8078-4475-97a3-4693ea2976be')\"\n",
              "              title=\"Convert this dataframe to an interactive table.\"\n",
              "              style=\"display:none;\">\n",
              "        \n",
              "  <svg xmlns=\"http://www.w3.org/2000/svg\" height=\"24px\"viewBox=\"0 0 24 24\"\n",
              "       width=\"24px\">\n",
              "    <path d=\"M0 0h24v24H0V0z\" fill=\"none\"/>\n",
              "    <path d=\"M18.56 5.44l.94 2.06.94-2.06 2.06-.94-2.06-.94-.94-2.06-.94 2.06-2.06.94zm-11 1L8.5 8.5l.94-2.06 2.06-.94-2.06-.94L8.5 2.5l-.94 2.06-2.06.94zm10 10l.94 2.06.94-2.06 2.06-.94-2.06-.94-.94-2.06-.94 2.06-2.06.94z\"/><path d=\"M17.41 7.96l-1.37-1.37c-.4-.4-.92-.59-1.43-.59-.52 0-1.04.2-1.43.59L10.3 9.45l-7.72 7.72c-.78.78-.78 2.05 0 2.83L4 21.41c.39.39.9.59 1.41.59.51 0 1.02-.2 1.41-.59l7.78-7.78 2.81-2.81c.8-.78.8-2.07 0-2.86zM5.41 20L4 18.59l7.72-7.72 1.47 1.35L5.41 20z\"/>\n",
              "  </svg>\n",
              "      </button>\n",
              "      \n",
              "  <style>\n",
              "    .colab-df-container {\n",
              "      display:flex;\n",
              "      flex-wrap:wrap;\n",
              "      gap: 12px;\n",
              "    }\n",
              "\n",
              "    .colab-df-convert {\n",
              "      background-color: #E8F0FE;\n",
              "      border: none;\n",
              "      border-radius: 50%;\n",
              "      cursor: pointer;\n",
              "      display: none;\n",
              "      fill: #1967D2;\n",
              "      height: 32px;\n",
              "      padding: 0 0 0 0;\n",
              "      width: 32px;\n",
              "    }\n",
              "\n",
              "    .colab-df-convert:hover {\n",
              "      background-color: #E2EBFA;\n",
              "      box-shadow: 0px 1px 2px rgba(60, 64, 67, 0.3), 0px 1px 3px 1px rgba(60, 64, 67, 0.15);\n",
              "      fill: #174EA6;\n",
              "    }\n",
              "\n",
              "    [theme=dark] .colab-df-convert {\n",
              "      background-color: #3B4455;\n",
              "      fill: #D2E3FC;\n",
              "    }\n",
              "\n",
              "    [theme=dark] .colab-df-convert:hover {\n",
              "      background-color: #434B5C;\n",
              "      box-shadow: 0px 1px 3px 1px rgba(0, 0, 0, 0.15);\n",
              "      filter: drop-shadow(0px 1px 2px rgba(0, 0, 0, 0.3));\n",
              "      fill: #FFFFFF;\n",
              "    }\n",
              "  </style>\n",
              "\n",
              "      <script>\n",
              "        const buttonEl =\n",
              "          document.querySelector('#df-e0d4be0c-8078-4475-97a3-4693ea2976be button.colab-df-convert');\n",
              "        buttonEl.style.display =\n",
              "          google.colab.kernel.accessAllowed ? 'block' : 'none';\n",
              "\n",
              "        async function convertToInteractive(key) {\n",
              "          const element = document.querySelector('#df-e0d4be0c-8078-4475-97a3-4693ea2976be');\n",
              "          const dataTable =\n",
              "            await google.colab.kernel.invokeFunction('convertToInteractive',\n",
              "                                                     [key], {});\n",
              "          if (!dataTable) return;\n",
              "\n",
              "          const docLinkHtml = 'Like what you see? Visit the ' +\n",
              "            '<a target=\"_blank\" href=https://colab.research.google.com/notebooks/data_table.ipynb>data table notebook</a>'\n",
              "            + ' to learn more about interactive tables.';\n",
              "          element.innerHTML = '';\n",
              "          dataTable['output_type'] = 'display_data';\n",
              "          await google.colab.output.renderOutput(dataTable, element);\n",
              "          const docLink = document.createElement('div');\n",
              "          docLink.innerHTML = docLinkHtml;\n",
              "          element.appendChild(docLink);\n",
              "        }\n",
              "      </script>\n",
              "    </div>\n",
              "  </div>\n",
              "  "
            ]
          },
          "metadata": {},
          "execution_count": 4
        }
      ]
    },
    {
      "cell_type": "code",
      "source": [
        "df=df.sample(1500) #select 2500 words"
      ],
      "metadata": {
        "id": "-UuzgQ8TnbDb"
      },
      "execution_count": 5,
      "outputs": []
    },
    {
      "cell_type": "markdown",
      "source": [
        "# **Start augmentation**"
      ],
      "metadata": {
        "id": "Z5eKPcoGySSe"
      }
    },
    {
      "cell_type": "code",
      "source": [
        "df[\"wikidata_response\"]=df[\"Words\"].apply(wiki)"
      ],
      "metadata": {
        "id": "3in5YlkjbtIu"
      },
      "execution_count": 9,
      "outputs": []
    },
    {
      "cell_type": "code",
      "source": [
        "df"
      ],
      "metadata": {
        "colab": {
          "base_uri": "https://localhost:8080/",
          "height": 424
        },
        "id": "-deSR_gGgLM-",
        "outputId": "66b5122a-65cc-41f6-a9c2-8e9995ca8d21"
      },
      "execution_count": 10,
      "outputs": [
        {
          "output_type": "execute_result",
          "data": {
            "text/plain": [
              "                  Words                  wikidata_response\n",
              "50922        brigandish                          Not found\n",
              "349079         sarcodic                genus of cnidarians\n",
              "38800      beneficiated                          Not found\n",
              "290457  pericholangitis                      Human disease\n",
              "271455        organical                 scientific article\n",
              "...                 ...                                ...\n",
              "313702       prismoidal                          Not found\n",
              "294642       phlogopite  true mica, phyllosilicate mineral\n",
              "405722       thiochrome                  chemical compound\n",
              "140258         five-ply                          Not found\n",
              "456203   well-conferred                          Not found\n",
              "\n",
              "[1500 rows x 2 columns]"
            ],
            "text/html": [
              "\n",
              "  <div id=\"df-041a765f-63e5-44ae-ae69-85c3b91efec2\">\n",
              "    <div class=\"colab-df-container\">\n",
              "      <div>\n",
              "<style scoped>\n",
              "    .dataframe tbody tr th:only-of-type {\n",
              "        vertical-align: middle;\n",
              "    }\n",
              "\n",
              "    .dataframe tbody tr th {\n",
              "        vertical-align: top;\n",
              "    }\n",
              "\n",
              "    .dataframe thead th {\n",
              "        text-align: right;\n",
              "    }\n",
              "</style>\n",
              "<table border=\"1\" class=\"dataframe\">\n",
              "  <thead>\n",
              "    <tr style=\"text-align: right;\">\n",
              "      <th></th>\n",
              "      <th>Words</th>\n",
              "      <th>wikidata_response</th>\n",
              "    </tr>\n",
              "  </thead>\n",
              "  <tbody>\n",
              "    <tr>\n",
              "      <th>50922</th>\n",
              "      <td>brigandish</td>\n",
              "      <td>Not found</td>\n",
              "    </tr>\n",
              "    <tr>\n",
              "      <th>349079</th>\n",
              "      <td>sarcodic</td>\n",
              "      <td>genus of cnidarians</td>\n",
              "    </tr>\n",
              "    <tr>\n",
              "      <th>38800</th>\n",
              "      <td>beneficiated</td>\n",
              "      <td>Not found</td>\n",
              "    </tr>\n",
              "    <tr>\n",
              "      <th>290457</th>\n",
              "      <td>pericholangitis</td>\n",
              "      <td>Human disease</td>\n",
              "    </tr>\n",
              "    <tr>\n",
              "      <th>271455</th>\n",
              "      <td>organical</td>\n",
              "      <td>scientific article</td>\n",
              "    </tr>\n",
              "    <tr>\n",
              "      <th>...</th>\n",
              "      <td>...</td>\n",
              "      <td>...</td>\n",
              "    </tr>\n",
              "    <tr>\n",
              "      <th>313702</th>\n",
              "      <td>prismoidal</td>\n",
              "      <td>Not found</td>\n",
              "    </tr>\n",
              "    <tr>\n",
              "      <th>294642</th>\n",
              "      <td>phlogopite</td>\n",
              "      <td>true mica, phyllosilicate mineral</td>\n",
              "    </tr>\n",
              "    <tr>\n",
              "      <th>405722</th>\n",
              "      <td>thiochrome</td>\n",
              "      <td>chemical compound</td>\n",
              "    </tr>\n",
              "    <tr>\n",
              "      <th>140258</th>\n",
              "      <td>five-ply</td>\n",
              "      <td>Not found</td>\n",
              "    </tr>\n",
              "    <tr>\n",
              "      <th>456203</th>\n",
              "      <td>well-conferred</td>\n",
              "      <td>Not found</td>\n",
              "    </tr>\n",
              "  </tbody>\n",
              "</table>\n",
              "<p>1500 rows × 2 columns</p>\n",
              "</div>\n",
              "      <button class=\"colab-df-convert\" onclick=\"convertToInteractive('df-041a765f-63e5-44ae-ae69-85c3b91efec2')\"\n",
              "              title=\"Convert this dataframe to an interactive table.\"\n",
              "              style=\"display:none;\">\n",
              "        \n",
              "  <svg xmlns=\"http://www.w3.org/2000/svg\" height=\"24px\"viewBox=\"0 0 24 24\"\n",
              "       width=\"24px\">\n",
              "    <path d=\"M0 0h24v24H0V0z\" fill=\"none\"/>\n",
              "    <path d=\"M18.56 5.44l.94 2.06.94-2.06 2.06-.94-2.06-.94-.94-2.06-.94 2.06-2.06.94zm-11 1L8.5 8.5l.94-2.06 2.06-.94-2.06-.94L8.5 2.5l-.94 2.06-2.06.94zm10 10l.94 2.06.94-2.06 2.06-.94-2.06-.94-.94-2.06-.94 2.06-2.06.94z\"/><path d=\"M17.41 7.96l-1.37-1.37c-.4-.4-.92-.59-1.43-.59-.52 0-1.04.2-1.43.59L10.3 9.45l-7.72 7.72c-.78.78-.78 2.05 0 2.83L4 21.41c.39.39.9.59 1.41.59.51 0 1.02-.2 1.41-.59l7.78-7.78 2.81-2.81c.8-.78.8-2.07 0-2.86zM5.41 20L4 18.59l7.72-7.72 1.47 1.35L5.41 20z\"/>\n",
              "  </svg>\n",
              "      </button>\n",
              "      \n",
              "  <style>\n",
              "    .colab-df-container {\n",
              "      display:flex;\n",
              "      flex-wrap:wrap;\n",
              "      gap: 12px;\n",
              "    }\n",
              "\n",
              "    .colab-df-convert {\n",
              "      background-color: #E8F0FE;\n",
              "      border: none;\n",
              "      border-radius: 50%;\n",
              "      cursor: pointer;\n",
              "      display: none;\n",
              "      fill: #1967D2;\n",
              "      height: 32px;\n",
              "      padding: 0 0 0 0;\n",
              "      width: 32px;\n",
              "    }\n",
              "\n",
              "    .colab-df-convert:hover {\n",
              "      background-color: #E2EBFA;\n",
              "      box-shadow: 0px 1px 2px rgba(60, 64, 67, 0.3), 0px 1px 3px 1px rgba(60, 64, 67, 0.15);\n",
              "      fill: #174EA6;\n",
              "    }\n",
              "\n",
              "    [theme=dark] .colab-df-convert {\n",
              "      background-color: #3B4455;\n",
              "      fill: #D2E3FC;\n",
              "    }\n",
              "\n",
              "    [theme=dark] .colab-df-convert:hover {\n",
              "      background-color: #434B5C;\n",
              "      box-shadow: 0px 1px 3px 1px rgba(0, 0, 0, 0.15);\n",
              "      filter: drop-shadow(0px 1px 2px rgba(0, 0, 0, 0.3));\n",
              "      fill: #FFFFFF;\n",
              "    }\n",
              "  </style>\n",
              "\n",
              "      <script>\n",
              "        const buttonEl =\n",
              "          document.querySelector('#df-041a765f-63e5-44ae-ae69-85c3b91efec2 button.colab-df-convert');\n",
              "        buttonEl.style.display =\n",
              "          google.colab.kernel.accessAllowed ? 'block' : 'none';\n",
              "\n",
              "        async function convertToInteractive(key) {\n",
              "          const element = document.querySelector('#df-041a765f-63e5-44ae-ae69-85c3b91efec2');\n",
              "          const dataTable =\n",
              "            await google.colab.kernel.invokeFunction('convertToInteractive',\n",
              "                                                     [key], {});\n",
              "          if (!dataTable) return;\n",
              "\n",
              "          const docLinkHtml = 'Like what you see? Visit the ' +\n",
              "            '<a target=\"_blank\" href=https://colab.research.google.com/notebooks/data_table.ipynb>data table notebook</a>'\n",
              "            + ' to learn more about interactive tables.';\n",
              "          element.innerHTML = '';\n",
              "          dataTable['output_type'] = 'display_data';\n",
              "          await google.colab.output.renderOutput(dataTable, element);\n",
              "          const docLink = document.createElement('div');\n",
              "          docLink.innerHTML = docLinkHtml;\n",
              "          element.appendChild(docLink);\n",
              "        }\n",
              "      </script>\n",
              "    </div>\n",
              "  </div>\n",
              "  "
            ]
          },
          "metadata": {},
          "execution_count": 10
        }
      ]
    },
    {
      "cell_type": "code",
      "source": [
        "found = df[df['wikidata_response'].str.contains('Not found')]\n",
        "print(found.count())"
      ],
      "metadata": {
        "colab": {
          "base_uri": "https://localhost:8080/"
        },
        "id": "FexCYbWtcPhG",
        "outputId": "3f6a0362-7f20-451d-fe0c-3fe21e59f399"
      },
      "execution_count": 11,
      "outputs": [
        {
          "output_type": "stream",
          "name": "stdout",
          "text": [
            "Words                811\n",
            "wikidata_response    811\n",
            "dtype: int64\n"
          ]
        }
      ]
    },
    {
      "cell_type": "code",
      "source": [
        "df=df.loc[df['wikidata_response'] != 'Not found']"
      ],
      "metadata": {
        "id": "oHwMVmYihwr0"
      },
      "execution_count": 13,
      "outputs": []
    },
    {
      "cell_type": "code",
      "source": [
        "df"
      ],
      "metadata": {
        "colab": {
          "base_uri": "https://localhost:8080/",
          "height": 424
        },
        "id": "SjoiTT9kh4a6",
        "outputId": "1e9706ed-b66a-4c8c-f509-46e41654a1ab"
      },
      "execution_count": 14,
      "outputs": [
        {
          "output_type": "execute_result",
          "data": {
            "text/plain": [
              "                  Words                                  wikidata_response\n",
              "349079         sarcodic                                genus of cnidarians\n",
              "290457  pericholangitis                                      Human disease\n",
              "271455        organical                                 scientific article\n",
              "97319       decentering     scientific article published on September 2015\n",
              "282200       palynology  study of plant pollen, spores and certain micr...\n",
              "...                 ...                                                ...\n",
              "139483          firearm  weapon using combustion or an explosive charge...\n",
              "6799            agalite           hydrous magnesium phyllosilicate mineral\n",
              "203002            Juang  language spoken primarily by the Juang people ...\n",
              "294642       phlogopite                  true mica, phyllosilicate mineral\n",
              "405722       thiochrome                                  chemical compound\n",
              "\n",
              "[689 rows x 2 columns]"
            ],
            "text/html": [
              "\n",
              "  <div id=\"df-8b4883f3-e9c8-41b2-8365-8319c86f7799\">\n",
              "    <div class=\"colab-df-container\">\n",
              "      <div>\n",
              "<style scoped>\n",
              "    .dataframe tbody tr th:only-of-type {\n",
              "        vertical-align: middle;\n",
              "    }\n",
              "\n",
              "    .dataframe tbody tr th {\n",
              "        vertical-align: top;\n",
              "    }\n",
              "\n",
              "    .dataframe thead th {\n",
              "        text-align: right;\n",
              "    }\n",
              "</style>\n",
              "<table border=\"1\" class=\"dataframe\">\n",
              "  <thead>\n",
              "    <tr style=\"text-align: right;\">\n",
              "      <th></th>\n",
              "      <th>Words</th>\n",
              "      <th>wikidata_response</th>\n",
              "    </tr>\n",
              "  </thead>\n",
              "  <tbody>\n",
              "    <tr>\n",
              "      <th>349079</th>\n",
              "      <td>sarcodic</td>\n",
              "      <td>genus of cnidarians</td>\n",
              "    </tr>\n",
              "    <tr>\n",
              "      <th>290457</th>\n",
              "      <td>pericholangitis</td>\n",
              "      <td>Human disease</td>\n",
              "    </tr>\n",
              "    <tr>\n",
              "      <th>271455</th>\n",
              "      <td>organical</td>\n",
              "      <td>scientific article</td>\n",
              "    </tr>\n",
              "    <tr>\n",
              "      <th>97319</th>\n",
              "      <td>decentering</td>\n",
              "      <td>scientific article published on September 2015</td>\n",
              "    </tr>\n",
              "    <tr>\n",
              "      <th>282200</th>\n",
              "      <td>palynology</td>\n",
              "      <td>study of plant pollen, spores and certain micr...</td>\n",
              "    </tr>\n",
              "    <tr>\n",
              "      <th>...</th>\n",
              "      <td>...</td>\n",
              "      <td>...</td>\n",
              "    </tr>\n",
              "    <tr>\n",
              "      <th>139483</th>\n",
              "      <td>firearm</td>\n",
              "      <td>weapon using combustion or an explosive charge...</td>\n",
              "    </tr>\n",
              "    <tr>\n",
              "      <th>6799</th>\n",
              "      <td>agalite</td>\n",
              "      <td>hydrous magnesium phyllosilicate mineral</td>\n",
              "    </tr>\n",
              "    <tr>\n",
              "      <th>203002</th>\n",
              "      <td>Juang</td>\n",
              "      <td>language spoken primarily by the Juang people ...</td>\n",
              "    </tr>\n",
              "    <tr>\n",
              "      <th>294642</th>\n",
              "      <td>phlogopite</td>\n",
              "      <td>true mica, phyllosilicate mineral</td>\n",
              "    </tr>\n",
              "    <tr>\n",
              "      <th>405722</th>\n",
              "      <td>thiochrome</td>\n",
              "      <td>chemical compound</td>\n",
              "    </tr>\n",
              "  </tbody>\n",
              "</table>\n",
              "<p>689 rows × 2 columns</p>\n",
              "</div>\n",
              "      <button class=\"colab-df-convert\" onclick=\"convertToInteractive('df-8b4883f3-e9c8-41b2-8365-8319c86f7799')\"\n",
              "              title=\"Convert this dataframe to an interactive table.\"\n",
              "              style=\"display:none;\">\n",
              "        \n",
              "  <svg xmlns=\"http://www.w3.org/2000/svg\" height=\"24px\"viewBox=\"0 0 24 24\"\n",
              "       width=\"24px\">\n",
              "    <path d=\"M0 0h24v24H0V0z\" fill=\"none\"/>\n",
              "    <path d=\"M18.56 5.44l.94 2.06.94-2.06 2.06-.94-2.06-.94-.94-2.06-.94 2.06-2.06.94zm-11 1L8.5 8.5l.94-2.06 2.06-.94-2.06-.94L8.5 2.5l-.94 2.06-2.06.94zm10 10l.94 2.06.94-2.06 2.06-.94-2.06-.94-.94-2.06-.94 2.06-2.06.94z\"/><path d=\"M17.41 7.96l-1.37-1.37c-.4-.4-.92-.59-1.43-.59-.52 0-1.04.2-1.43.59L10.3 9.45l-7.72 7.72c-.78.78-.78 2.05 0 2.83L4 21.41c.39.39.9.59 1.41.59.51 0 1.02-.2 1.41-.59l7.78-7.78 2.81-2.81c.8-.78.8-2.07 0-2.86zM5.41 20L4 18.59l7.72-7.72 1.47 1.35L5.41 20z\"/>\n",
              "  </svg>\n",
              "      </button>\n",
              "      \n",
              "  <style>\n",
              "    .colab-df-container {\n",
              "      display:flex;\n",
              "      flex-wrap:wrap;\n",
              "      gap: 12px;\n",
              "    }\n",
              "\n",
              "    .colab-df-convert {\n",
              "      background-color: #E8F0FE;\n",
              "      border: none;\n",
              "      border-radius: 50%;\n",
              "      cursor: pointer;\n",
              "      display: none;\n",
              "      fill: #1967D2;\n",
              "      height: 32px;\n",
              "      padding: 0 0 0 0;\n",
              "      width: 32px;\n",
              "    }\n",
              "\n",
              "    .colab-df-convert:hover {\n",
              "      background-color: #E2EBFA;\n",
              "      box-shadow: 0px 1px 2px rgba(60, 64, 67, 0.3), 0px 1px 3px 1px rgba(60, 64, 67, 0.15);\n",
              "      fill: #174EA6;\n",
              "    }\n",
              "\n",
              "    [theme=dark] .colab-df-convert {\n",
              "      background-color: #3B4455;\n",
              "      fill: #D2E3FC;\n",
              "    }\n",
              "\n",
              "    [theme=dark] .colab-df-convert:hover {\n",
              "      background-color: #434B5C;\n",
              "      box-shadow: 0px 1px 3px 1px rgba(0, 0, 0, 0.15);\n",
              "      filter: drop-shadow(0px 1px 2px rgba(0, 0, 0, 0.3));\n",
              "      fill: #FFFFFF;\n",
              "    }\n",
              "  </style>\n",
              "\n",
              "      <script>\n",
              "        const buttonEl =\n",
              "          document.querySelector('#df-8b4883f3-e9c8-41b2-8365-8319c86f7799 button.colab-df-convert');\n",
              "        buttonEl.style.display =\n",
              "          google.colab.kernel.accessAllowed ? 'block' : 'none';\n",
              "\n",
              "        async function convertToInteractive(key) {\n",
              "          const element = document.querySelector('#df-8b4883f3-e9c8-41b2-8365-8319c86f7799');\n",
              "          const dataTable =\n",
              "            await google.colab.kernel.invokeFunction('convertToInteractive',\n",
              "                                                     [key], {});\n",
              "          if (!dataTable) return;\n",
              "\n",
              "          const docLinkHtml = 'Like what you see? Visit the ' +\n",
              "            '<a target=\"_blank\" href=https://colab.research.google.com/notebooks/data_table.ipynb>data table notebook</a>'\n",
              "            + ' to learn more about interactive tables.';\n",
              "          element.innerHTML = '';\n",
              "          dataTable['output_type'] = 'display_data';\n",
              "          await google.colab.output.renderOutput(dataTable, element);\n",
              "          const docLink = document.createElement('div');\n",
              "          docLink.innerHTML = docLinkHtml;\n",
              "          element.appendChild(docLink);\n",
              "        }\n",
              "      </script>\n",
              "    </div>\n",
              "  </div>\n",
              "  "
            ]
          },
          "metadata": {},
          "execution_count": 14
        }
      ]
    },
    {
      "cell_type": "markdown",
      "source": [
        "# **Automating preprocess**"
      ],
      "metadata": {
        "id": "vAlHJ-vYya--"
      }
    },
    {
      "cell_type": "code",
      "source": [
        "#import required libraries\n",
        "import pandas as pd\n",
        "import random\n",
        "import re\n",
        "import string\n",
        "import nltk\n",
        "from nltk.stem.wordnet import WordNetLemmatizer\n",
        "nltk.download('punkt')\n",
        "nltk.download('wordnet')\n",
        "from sklearn.feature_extraction.text import CountVectorizer\n",
        "from nltk.corpus import stopwords\n",
        "from sklearn.naive_bayes import MultinomialNB\n",
        "from sklearn.model_selection import RepeatedStratifiedKFold\n",
        "from sklearn.model_selection import cross_val_score\n",
        "def clean_text(text):\n",
        "    # lower text\n",
        "  try: \n",
        "    text = text.lower()\n",
        "  except:\n",
        "      pass\n",
        "    #removing square brackets\n",
        "  text=re.sub('[.*?]', '', text)\n",
        "    \n",
        "    #text=re.sub('+', '', text)\n",
        "    #removing hyperlink\n",
        "    #removing puncuation\n",
        "  text=re.sub('[%s]' % re.escape(string.punctuation), '', text)\n",
        "    #remove words containing numbers\n",
        "    #tokenizer\n",
        "  #text = nltk.word_tokenize(text)\n",
        "  return text\n",
        "\n",
        "#train_data[\"Group\"]= train_data[\"Group\"].apply(clean_text)\n"
      ],
      "metadata": {
        "colab": {
          "base_uri": "https://localhost:8080/"
        },
        "id": "pEcW9EyIOug4",
        "outputId": "6898bfb7-9762-4d67-a2b3-a48bbd4688c9"
      },
      "execution_count": 15,
      "outputs": [
        {
          "output_type": "stream",
          "name": "stderr",
          "text": [
            "[nltk_data] Downloading package punkt to /root/nltk_data...\n",
            "[nltk_data]   Package punkt is already up-to-date!\n",
            "[nltk_data] Downloading package wordnet to /root/nltk_data...\n",
            "[nltk_data]   Package wordnet is already up-to-date!\n"
          ]
        }
      ]
    },
    {
      "cell_type": "code",
      "source": [
        "df[\"Preprocessed text\"]=df[\"wikidata_response\"].apply(clean_text)\n",
        "df"
      ],
      "metadata": {
        "colab": {
          "base_uri": "https://localhost:8080/",
          "height": 424
        },
        "id": "oAKgekvVb8nA",
        "outputId": "1dd5d28e-c8d5-4724-876f-58274bad4fc0"
      },
      "execution_count": 16,
      "outputs": [
        {
          "output_type": "execute_result",
          "data": {
            "text/plain": [
              "                  Words                                  wikidata_response  \\\n",
              "349079         sarcodic                                genus of cnidarians   \n",
              "290457  pericholangitis                                      Human disease   \n",
              "271455        organical                                 scientific article   \n",
              "97319       decentering     scientific article published on September 2015   \n",
              "282200       palynology  study of plant pollen, spores and certain micr...   \n",
              "...                 ...                                                ...   \n",
              "139483          firearm  weapon using combustion or an explosive charge...   \n",
              "6799            agalite           hydrous magnesium phyllosilicate mineral   \n",
              "203002            Juang  language spoken primarily by the Juang people ...   \n",
              "294642       phlogopite                  true mica, phyllosilicate mineral   \n",
              "405722       thiochrome                                  chemical compound   \n",
              "\n",
              "                                        Preprocessed text  \n",
              "349079                                genus of cnidarians  \n",
              "290457                                      human disease  \n",
              "271455                                 scientific article  \n",
              "97319      scientific article published on september 2015  \n",
              "282200  study of plant pollen spores and certain micro...  \n",
              "...                                                   ...  \n",
              "139483  weapon using combustion or an explosive charge...  \n",
              "6799             hydrous magnesium phyllosilicate mineral  \n",
              "203002  language spoken primarily by the juang people ...  \n",
              "294642                   true mica phyllosilicate mineral  \n",
              "405722                                  chemical compound  \n",
              "\n",
              "[689 rows x 3 columns]"
            ],
            "text/html": [
              "\n",
              "  <div id=\"df-0796fc35-6c4f-46d8-b1e8-d9fa6ea8d543\">\n",
              "    <div class=\"colab-df-container\">\n",
              "      <div>\n",
              "<style scoped>\n",
              "    .dataframe tbody tr th:only-of-type {\n",
              "        vertical-align: middle;\n",
              "    }\n",
              "\n",
              "    .dataframe tbody tr th {\n",
              "        vertical-align: top;\n",
              "    }\n",
              "\n",
              "    .dataframe thead th {\n",
              "        text-align: right;\n",
              "    }\n",
              "</style>\n",
              "<table border=\"1\" class=\"dataframe\">\n",
              "  <thead>\n",
              "    <tr style=\"text-align: right;\">\n",
              "      <th></th>\n",
              "      <th>Words</th>\n",
              "      <th>wikidata_response</th>\n",
              "      <th>Preprocessed text</th>\n",
              "    </tr>\n",
              "  </thead>\n",
              "  <tbody>\n",
              "    <tr>\n",
              "      <th>349079</th>\n",
              "      <td>sarcodic</td>\n",
              "      <td>genus of cnidarians</td>\n",
              "      <td>genus of cnidarians</td>\n",
              "    </tr>\n",
              "    <tr>\n",
              "      <th>290457</th>\n",
              "      <td>pericholangitis</td>\n",
              "      <td>Human disease</td>\n",
              "      <td>human disease</td>\n",
              "    </tr>\n",
              "    <tr>\n",
              "      <th>271455</th>\n",
              "      <td>organical</td>\n",
              "      <td>scientific article</td>\n",
              "      <td>scientific article</td>\n",
              "    </tr>\n",
              "    <tr>\n",
              "      <th>97319</th>\n",
              "      <td>decentering</td>\n",
              "      <td>scientific article published on September 2015</td>\n",
              "      <td>scientific article published on september 2015</td>\n",
              "    </tr>\n",
              "    <tr>\n",
              "      <th>282200</th>\n",
              "      <td>palynology</td>\n",
              "      <td>study of plant pollen, spores and certain micr...</td>\n",
              "      <td>study of plant pollen spores and certain micro...</td>\n",
              "    </tr>\n",
              "    <tr>\n",
              "      <th>...</th>\n",
              "      <td>...</td>\n",
              "      <td>...</td>\n",
              "      <td>...</td>\n",
              "    </tr>\n",
              "    <tr>\n",
              "      <th>139483</th>\n",
              "      <td>firearm</td>\n",
              "      <td>weapon using combustion or an explosive charge...</td>\n",
              "      <td>weapon using combustion or an explosive charge...</td>\n",
              "    </tr>\n",
              "    <tr>\n",
              "      <th>6799</th>\n",
              "      <td>agalite</td>\n",
              "      <td>hydrous magnesium phyllosilicate mineral</td>\n",
              "      <td>hydrous magnesium phyllosilicate mineral</td>\n",
              "    </tr>\n",
              "    <tr>\n",
              "      <th>203002</th>\n",
              "      <td>Juang</td>\n",
              "      <td>language spoken primarily by the Juang people ...</td>\n",
              "      <td>language spoken primarily by the juang people ...</td>\n",
              "    </tr>\n",
              "    <tr>\n",
              "      <th>294642</th>\n",
              "      <td>phlogopite</td>\n",
              "      <td>true mica, phyllosilicate mineral</td>\n",
              "      <td>true mica phyllosilicate mineral</td>\n",
              "    </tr>\n",
              "    <tr>\n",
              "      <th>405722</th>\n",
              "      <td>thiochrome</td>\n",
              "      <td>chemical compound</td>\n",
              "      <td>chemical compound</td>\n",
              "    </tr>\n",
              "  </tbody>\n",
              "</table>\n",
              "<p>689 rows × 3 columns</p>\n",
              "</div>\n",
              "      <button class=\"colab-df-convert\" onclick=\"convertToInteractive('df-0796fc35-6c4f-46d8-b1e8-d9fa6ea8d543')\"\n",
              "              title=\"Convert this dataframe to an interactive table.\"\n",
              "              style=\"display:none;\">\n",
              "        \n",
              "  <svg xmlns=\"http://www.w3.org/2000/svg\" height=\"24px\"viewBox=\"0 0 24 24\"\n",
              "       width=\"24px\">\n",
              "    <path d=\"M0 0h24v24H0V0z\" fill=\"none\"/>\n",
              "    <path d=\"M18.56 5.44l.94 2.06.94-2.06 2.06-.94-2.06-.94-.94-2.06-.94 2.06-2.06.94zm-11 1L8.5 8.5l.94-2.06 2.06-.94-2.06-.94L8.5 2.5l-.94 2.06-2.06.94zm10 10l.94 2.06.94-2.06 2.06-.94-2.06-.94-.94-2.06-.94 2.06-2.06.94z\"/><path d=\"M17.41 7.96l-1.37-1.37c-.4-.4-.92-.59-1.43-.59-.52 0-1.04.2-1.43.59L10.3 9.45l-7.72 7.72c-.78.78-.78 2.05 0 2.83L4 21.41c.39.39.9.59 1.41.59.51 0 1.02-.2 1.41-.59l7.78-7.78 2.81-2.81c.8-.78.8-2.07 0-2.86zM5.41 20L4 18.59l7.72-7.72 1.47 1.35L5.41 20z\"/>\n",
              "  </svg>\n",
              "      </button>\n",
              "      \n",
              "  <style>\n",
              "    .colab-df-container {\n",
              "      display:flex;\n",
              "      flex-wrap:wrap;\n",
              "      gap: 12px;\n",
              "    }\n",
              "\n",
              "    .colab-df-convert {\n",
              "      background-color: #E8F0FE;\n",
              "      border: none;\n",
              "      border-radius: 50%;\n",
              "      cursor: pointer;\n",
              "      display: none;\n",
              "      fill: #1967D2;\n",
              "      height: 32px;\n",
              "      padding: 0 0 0 0;\n",
              "      width: 32px;\n",
              "    }\n",
              "\n",
              "    .colab-df-convert:hover {\n",
              "      background-color: #E2EBFA;\n",
              "      box-shadow: 0px 1px 2px rgba(60, 64, 67, 0.3), 0px 1px 3px 1px rgba(60, 64, 67, 0.15);\n",
              "      fill: #174EA6;\n",
              "    }\n",
              "\n",
              "    [theme=dark] .colab-df-convert {\n",
              "      background-color: #3B4455;\n",
              "      fill: #D2E3FC;\n",
              "    }\n",
              "\n",
              "    [theme=dark] .colab-df-convert:hover {\n",
              "      background-color: #434B5C;\n",
              "      box-shadow: 0px 1px 3px 1px rgba(0, 0, 0, 0.15);\n",
              "      filter: drop-shadow(0px 1px 2px rgba(0, 0, 0, 0.3));\n",
              "      fill: #FFFFFF;\n",
              "    }\n",
              "  </style>\n",
              "\n",
              "      <script>\n",
              "        const buttonEl =\n",
              "          document.querySelector('#df-0796fc35-6c4f-46d8-b1e8-d9fa6ea8d543 button.colab-df-convert');\n",
              "        buttonEl.style.display =\n",
              "          google.colab.kernel.accessAllowed ? 'block' : 'none';\n",
              "\n",
              "        async function convertToInteractive(key) {\n",
              "          const element = document.querySelector('#df-0796fc35-6c4f-46d8-b1e8-d9fa6ea8d543');\n",
              "          const dataTable =\n",
              "            await google.colab.kernel.invokeFunction('convertToInteractive',\n",
              "                                                     [key], {});\n",
              "          if (!dataTable) return;\n",
              "\n",
              "          const docLinkHtml = 'Like what you see? Visit the ' +\n",
              "            '<a target=\"_blank\" href=https://colab.research.google.com/notebooks/data_table.ipynb>data table notebook</a>'\n",
              "            + ' to learn more about interactive tables.';\n",
              "          element.innerHTML = '';\n",
              "          dataTable['output_type'] = 'display_data';\n",
              "          await google.colab.output.renderOutput(dataTable, element);\n",
              "          const docLink = document.createElement('div');\n",
              "          docLink.innerHTML = docLinkHtml;\n",
              "          element.appendChild(docLink);\n",
              "        }\n",
              "      </script>\n",
              "    </div>\n",
              "  </div>\n",
              "  "
            ]
          },
          "metadata": {},
          "execution_count": 16
        }
      ]
    },
    {
      "cell_type": "code",
      "source": [
        "def count(text):\n",
        "\n",
        "  c=text.strip().split(\" \")\n",
        "  return len(c)"
      ],
      "metadata": {
        "id": "Nci2yfh6Vhaw"
      },
      "execution_count": 17,
      "outputs": []
    },
    {
      "cell_type": "code",
      "source": [
        "df[\"Total words\"]=df[\"wikidata_response\"].apply(count)\n",
        "df"
      ],
      "metadata": {
        "colab": {
          "base_uri": "https://localhost:8080/",
          "height": 468
        },
        "id": "6_dY4nw1VF2o",
        "outputId": "afa31da7-00fd-4bb6-c10f-28a71c1f46b0"
      },
      "execution_count": 18,
      "outputs": [
        {
          "output_type": "execute_result",
          "data": {
            "text/plain": [
              "                  Words                                  wikidata_response  \\\n",
              "349079         sarcodic                                genus of cnidarians   \n",
              "290457  pericholangitis                                      Human disease   \n",
              "271455        organical                                 scientific article   \n",
              "97319       decentering     scientific article published on September 2015   \n",
              "282200       palynology  study of plant pollen, spores and certain micr...   \n",
              "...                 ...                                                ...   \n",
              "139483          firearm  weapon using combustion or an explosive charge...   \n",
              "6799            agalite           hydrous magnesium phyllosilicate mineral   \n",
              "203002            Juang  language spoken primarily by the Juang people ...   \n",
              "294642       phlogopite                  true mica, phyllosilicate mineral   \n",
              "405722       thiochrome                                  chemical compound   \n",
              "\n",
              "                                        Preprocessed text  Total words  \n",
              "349079                                genus of cnidarians            3  \n",
              "290457                                      human disease            2  \n",
              "271455                                 scientific article            2  \n",
              "97319      scientific article published on september 2015            6  \n",
              "282200  study of plant pollen spores and certain micro...           19  \n",
              "...                                                   ...          ...  \n",
              "139483  weapon using combustion or an explosive charge...           11  \n",
              "6799             hydrous magnesium phyllosilicate mineral            4  \n",
              "203002  language spoken primarily by the juang people ...           10  \n",
              "294642                   true mica phyllosilicate mineral            4  \n",
              "405722                                  chemical compound            2  \n",
              "\n",
              "[689 rows x 4 columns]"
            ],
            "text/html": [
              "\n",
              "  <div id=\"df-1eed6c41-4d9f-4fa5-9c2e-85b452612d12\">\n",
              "    <div class=\"colab-df-container\">\n",
              "      <div>\n",
              "<style scoped>\n",
              "    .dataframe tbody tr th:only-of-type {\n",
              "        vertical-align: middle;\n",
              "    }\n",
              "\n",
              "    .dataframe tbody tr th {\n",
              "        vertical-align: top;\n",
              "    }\n",
              "\n",
              "    .dataframe thead th {\n",
              "        text-align: right;\n",
              "    }\n",
              "</style>\n",
              "<table border=\"1\" class=\"dataframe\">\n",
              "  <thead>\n",
              "    <tr style=\"text-align: right;\">\n",
              "      <th></th>\n",
              "      <th>Words</th>\n",
              "      <th>wikidata_response</th>\n",
              "      <th>Preprocessed text</th>\n",
              "      <th>Total words</th>\n",
              "    </tr>\n",
              "  </thead>\n",
              "  <tbody>\n",
              "    <tr>\n",
              "      <th>349079</th>\n",
              "      <td>sarcodic</td>\n",
              "      <td>genus of cnidarians</td>\n",
              "      <td>genus of cnidarians</td>\n",
              "      <td>3</td>\n",
              "    </tr>\n",
              "    <tr>\n",
              "      <th>290457</th>\n",
              "      <td>pericholangitis</td>\n",
              "      <td>Human disease</td>\n",
              "      <td>human disease</td>\n",
              "      <td>2</td>\n",
              "    </tr>\n",
              "    <tr>\n",
              "      <th>271455</th>\n",
              "      <td>organical</td>\n",
              "      <td>scientific article</td>\n",
              "      <td>scientific article</td>\n",
              "      <td>2</td>\n",
              "    </tr>\n",
              "    <tr>\n",
              "      <th>97319</th>\n",
              "      <td>decentering</td>\n",
              "      <td>scientific article published on September 2015</td>\n",
              "      <td>scientific article published on september 2015</td>\n",
              "      <td>6</td>\n",
              "    </tr>\n",
              "    <tr>\n",
              "      <th>282200</th>\n",
              "      <td>palynology</td>\n",
              "      <td>study of plant pollen, spores and certain micr...</td>\n",
              "      <td>study of plant pollen spores and certain micro...</td>\n",
              "      <td>19</td>\n",
              "    </tr>\n",
              "    <tr>\n",
              "      <th>...</th>\n",
              "      <td>...</td>\n",
              "      <td>...</td>\n",
              "      <td>...</td>\n",
              "      <td>...</td>\n",
              "    </tr>\n",
              "    <tr>\n",
              "      <th>139483</th>\n",
              "      <td>firearm</td>\n",
              "      <td>weapon using combustion or an explosive charge...</td>\n",
              "      <td>weapon using combustion or an explosive charge...</td>\n",
              "      <td>11</td>\n",
              "    </tr>\n",
              "    <tr>\n",
              "      <th>6799</th>\n",
              "      <td>agalite</td>\n",
              "      <td>hydrous magnesium phyllosilicate mineral</td>\n",
              "      <td>hydrous magnesium phyllosilicate mineral</td>\n",
              "      <td>4</td>\n",
              "    </tr>\n",
              "    <tr>\n",
              "      <th>203002</th>\n",
              "      <td>Juang</td>\n",
              "      <td>language spoken primarily by the Juang people ...</td>\n",
              "      <td>language spoken primarily by the juang people ...</td>\n",
              "      <td>10</td>\n",
              "    </tr>\n",
              "    <tr>\n",
              "      <th>294642</th>\n",
              "      <td>phlogopite</td>\n",
              "      <td>true mica, phyllosilicate mineral</td>\n",
              "      <td>true mica phyllosilicate mineral</td>\n",
              "      <td>4</td>\n",
              "    </tr>\n",
              "    <tr>\n",
              "      <th>405722</th>\n",
              "      <td>thiochrome</td>\n",
              "      <td>chemical compound</td>\n",
              "      <td>chemical compound</td>\n",
              "      <td>2</td>\n",
              "    </tr>\n",
              "  </tbody>\n",
              "</table>\n",
              "<p>689 rows × 4 columns</p>\n",
              "</div>\n",
              "      <button class=\"colab-df-convert\" onclick=\"convertToInteractive('df-1eed6c41-4d9f-4fa5-9c2e-85b452612d12')\"\n",
              "              title=\"Convert this dataframe to an interactive table.\"\n",
              "              style=\"display:none;\">\n",
              "        \n",
              "  <svg xmlns=\"http://www.w3.org/2000/svg\" height=\"24px\"viewBox=\"0 0 24 24\"\n",
              "       width=\"24px\">\n",
              "    <path d=\"M0 0h24v24H0V0z\" fill=\"none\"/>\n",
              "    <path d=\"M18.56 5.44l.94 2.06.94-2.06 2.06-.94-2.06-.94-.94-2.06-.94 2.06-2.06.94zm-11 1L8.5 8.5l.94-2.06 2.06-.94-2.06-.94L8.5 2.5l-.94 2.06-2.06.94zm10 10l.94 2.06.94-2.06 2.06-.94-2.06-.94-.94-2.06-.94 2.06-2.06.94z\"/><path d=\"M17.41 7.96l-1.37-1.37c-.4-.4-.92-.59-1.43-.59-.52 0-1.04.2-1.43.59L10.3 9.45l-7.72 7.72c-.78.78-.78 2.05 0 2.83L4 21.41c.39.39.9.59 1.41.59.51 0 1.02-.2 1.41-.59l7.78-7.78 2.81-2.81c.8-.78.8-2.07 0-2.86zM5.41 20L4 18.59l7.72-7.72 1.47 1.35L5.41 20z\"/>\n",
              "  </svg>\n",
              "      </button>\n",
              "      \n",
              "  <style>\n",
              "    .colab-df-container {\n",
              "      display:flex;\n",
              "      flex-wrap:wrap;\n",
              "      gap: 12px;\n",
              "    }\n",
              "\n",
              "    .colab-df-convert {\n",
              "      background-color: #E8F0FE;\n",
              "      border: none;\n",
              "      border-radius: 50%;\n",
              "      cursor: pointer;\n",
              "      display: none;\n",
              "      fill: #1967D2;\n",
              "      height: 32px;\n",
              "      padding: 0 0 0 0;\n",
              "      width: 32px;\n",
              "    }\n",
              "\n",
              "    .colab-df-convert:hover {\n",
              "      background-color: #E2EBFA;\n",
              "      box-shadow: 0px 1px 2px rgba(60, 64, 67, 0.3), 0px 1px 3px 1px rgba(60, 64, 67, 0.15);\n",
              "      fill: #174EA6;\n",
              "    }\n",
              "\n",
              "    [theme=dark] .colab-df-convert {\n",
              "      background-color: #3B4455;\n",
              "      fill: #D2E3FC;\n",
              "    }\n",
              "\n",
              "    [theme=dark] .colab-df-convert:hover {\n",
              "      background-color: #434B5C;\n",
              "      box-shadow: 0px 1px 3px 1px rgba(0, 0, 0, 0.15);\n",
              "      filter: drop-shadow(0px 1px 2px rgba(0, 0, 0, 0.3));\n",
              "      fill: #FFFFFF;\n",
              "    }\n",
              "  </style>\n",
              "\n",
              "      <script>\n",
              "        const buttonEl =\n",
              "          document.querySelector('#df-1eed6c41-4d9f-4fa5-9c2e-85b452612d12 button.colab-df-convert');\n",
              "        buttonEl.style.display =\n",
              "          google.colab.kernel.accessAllowed ? 'block' : 'none';\n",
              "\n",
              "        async function convertToInteractive(key) {\n",
              "          const element = document.querySelector('#df-1eed6c41-4d9f-4fa5-9c2e-85b452612d12');\n",
              "          const dataTable =\n",
              "            await google.colab.kernel.invokeFunction('convertToInteractive',\n",
              "                                                     [key], {});\n",
              "          if (!dataTable) return;\n",
              "\n",
              "          const docLinkHtml = 'Like what you see? Visit the ' +\n",
              "            '<a target=\"_blank\" href=https://colab.research.google.com/notebooks/data_table.ipynb>data table notebook</a>'\n",
              "            + ' to learn more about interactive tables.';\n",
              "          element.innerHTML = '';\n",
              "          dataTable['output_type'] = 'display_data';\n",
              "          await google.colab.output.renderOutput(dataTable, element);\n",
              "          const docLink = document.createElement('div');\n",
              "          docLink.innerHTML = docLinkHtml;\n",
              "          element.appendChild(docLink);\n",
              "        }\n",
              "      </script>\n",
              "    </div>\n",
              "  </div>\n",
              "  "
            ]
          },
          "metadata": {},
          "execution_count": 18
        }
      ]
    },
    {
      "cell_type": "code",
      "source": [
        "#for index, row in df.iterrows():\n",
        " #   print(row['Words'])"
      ],
      "metadata": {
        "id": "7SSPxIH_a7s5"
      },
      "execution_count": 24,
      "outputs": []
    },
    {
      "cell_type": "code",
      "source": [
        "from textblob import TextBlob\n",
        "def sentiment(text):\n",
        "  res = TextBlob(text)\n",
        "  score=round(res.sentiment.polarity,1)\n",
        "  return score\n"
      ],
      "metadata": {
        "id": "WW9qJ-XuV8db"
      },
      "execution_count": 19,
      "outputs": []
    },
    {
      "cell_type": "markdown",
      "source": [
        "# **Data after Augmentation**"
      ],
      "metadata": {
        "id": "ec5Lq6HtykTM"
      }
    },
    {
      "cell_type": "code",
      "source": [
        "df[\"sentiment\"]=df[\"wikidata_response\"].apply(sentiment)\n",
        "df"
      ],
      "metadata": {
        "colab": {
          "base_uri": "https://localhost:8080/",
          "height": 554
        },
        "id": "s4PcZ8becFYI",
        "outputId": "126c561e-8a92-4fba-f392-bcf6cc731166"
      },
      "execution_count": 20,
      "outputs": [
        {
          "output_type": "execute_result",
          "data": {
            "text/plain": [
              "                  Words                                  wikidata_response  \\\n",
              "349079         sarcodic                                genus of cnidarians   \n",
              "290457  pericholangitis                                      Human disease   \n",
              "271455        organical                                 scientific article   \n",
              "97319       decentering     scientific article published on September 2015   \n",
              "282200       palynology  study of plant pollen, spores and certain micr...   \n",
              "...                 ...                                                ...   \n",
              "139483          firearm  weapon using combustion or an explosive charge...   \n",
              "6799            agalite           hydrous magnesium phyllosilicate mineral   \n",
              "203002            Juang  language spoken primarily by the Juang people ...   \n",
              "294642       phlogopite                  true mica, phyllosilicate mineral   \n",
              "405722       thiochrome                                  chemical compound   \n",
              "\n",
              "                                        Preprocessed text  Total words  \\\n",
              "349079                                genus of cnidarians            3   \n",
              "290457                                      human disease            2   \n",
              "271455                                 scientific article            2   \n",
              "97319      scientific article published on september 2015            6   \n",
              "282200  study of plant pollen spores and certain micro...           19   \n",
              "...                                                   ...          ...   \n",
              "139483  weapon using combustion or an explosive charge...           11   \n",
              "6799             hydrous magnesium phyllosilicate mineral            4   \n",
              "203002  language spoken primarily by the juang people ...           10   \n",
              "294642                   true mica phyllosilicate mineral            4   \n",
              "405722                                  chemical compound            2   \n",
              "\n",
              "        sentiment  \n",
              "349079        0.0  \n",
              "290457        0.0  \n",
              "271455        0.0  \n",
              "97319         0.0  \n",
              "282200        0.2  \n",
              "...           ...  \n",
              "139483        0.0  \n",
              "6799          0.0  \n",
              "203002        0.4  \n",
              "294642        0.3  \n",
              "405722        0.0  \n",
              "\n",
              "[689 rows x 5 columns]"
            ],
            "text/html": [
              "\n",
              "  <div id=\"df-b1a1fa0a-2acb-4d04-a7db-bcc705021409\">\n",
              "    <div class=\"colab-df-container\">\n",
              "      <div>\n",
              "<style scoped>\n",
              "    .dataframe tbody tr th:only-of-type {\n",
              "        vertical-align: middle;\n",
              "    }\n",
              "\n",
              "    .dataframe tbody tr th {\n",
              "        vertical-align: top;\n",
              "    }\n",
              "\n",
              "    .dataframe thead th {\n",
              "        text-align: right;\n",
              "    }\n",
              "</style>\n",
              "<table border=\"1\" class=\"dataframe\">\n",
              "  <thead>\n",
              "    <tr style=\"text-align: right;\">\n",
              "      <th></th>\n",
              "      <th>Words</th>\n",
              "      <th>wikidata_response</th>\n",
              "      <th>Preprocessed text</th>\n",
              "      <th>Total words</th>\n",
              "      <th>sentiment</th>\n",
              "    </tr>\n",
              "  </thead>\n",
              "  <tbody>\n",
              "    <tr>\n",
              "      <th>349079</th>\n",
              "      <td>sarcodic</td>\n",
              "      <td>genus of cnidarians</td>\n",
              "      <td>genus of cnidarians</td>\n",
              "      <td>3</td>\n",
              "      <td>0.0</td>\n",
              "    </tr>\n",
              "    <tr>\n",
              "      <th>290457</th>\n",
              "      <td>pericholangitis</td>\n",
              "      <td>Human disease</td>\n",
              "      <td>human disease</td>\n",
              "      <td>2</td>\n",
              "      <td>0.0</td>\n",
              "    </tr>\n",
              "    <tr>\n",
              "      <th>271455</th>\n",
              "      <td>organical</td>\n",
              "      <td>scientific article</td>\n",
              "      <td>scientific article</td>\n",
              "      <td>2</td>\n",
              "      <td>0.0</td>\n",
              "    </tr>\n",
              "    <tr>\n",
              "      <th>97319</th>\n",
              "      <td>decentering</td>\n",
              "      <td>scientific article published on September 2015</td>\n",
              "      <td>scientific article published on september 2015</td>\n",
              "      <td>6</td>\n",
              "      <td>0.0</td>\n",
              "    </tr>\n",
              "    <tr>\n",
              "      <th>282200</th>\n",
              "      <td>palynology</td>\n",
              "      <td>study of plant pollen, spores and certain micr...</td>\n",
              "      <td>study of plant pollen spores and certain micro...</td>\n",
              "      <td>19</td>\n",
              "      <td>0.2</td>\n",
              "    </tr>\n",
              "    <tr>\n",
              "      <th>...</th>\n",
              "      <td>...</td>\n",
              "      <td>...</td>\n",
              "      <td>...</td>\n",
              "      <td>...</td>\n",
              "      <td>...</td>\n",
              "    </tr>\n",
              "    <tr>\n",
              "      <th>139483</th>\n",
              "      <td>firearm</td>\n",
              "      <td>weapon using combustion or an explosive charge...</td>\n",
              "      <td>weapon using combustion or an explosive charge...</td>\n",
              "      <td>11</td>\n",
              "      <td>0.0</td>\n",
              "    </tr>\n",
              "    <tr>\n",
              "      <th>6799</th>\n",
              "      <td>agalite</td>\n",
              "      <td>hydrous magnesium phyllosilicate mineral</td>\n",
              "      <td>hydrous magnesium phyllosilicate mineral</td>\n",
              "      <td>4</td>\n",
              "      <td>0.0</td>\n",
              "    </tr>\n",
              "    <tr>\n",
              "      <th>203002</th>\n",
              "      <td>Juang</td>\n",
              "      <td>language spoken primarily by the Juang people ...</td>\n",
              "      <td>language spoken primarily by the juang people ...</td>\n",
              "      <td>10</td>\n",
              "      <td>0.4</td>\n",
              "    </tr>\n",
              "    <tr>\n",
              "      <th>294642</th>\n",
              "      <td>phlogopite</td>\n",
              "      <td>true mica, phyllosilicate mineral</td>\n",
              "      <td>true mica phyllosilicate mineral</td>\n",
              "      <td>4</td>\n",
              "      <td>0.3</td>\n",
              "    </tr>\n",
              "    <tr>\n",
              "      <th>405722</th>\n",
              "      <td>thiochrome</td>\n",
              "      <td>chemical compound</td>\n",
              "      <td>chemical compound</td>\n",
              "      <td>2</td>\n",
              "      <td>0.0</td>\n",
              "    </tr>\n",
              "  </tbody>\n",
              "</table>\n",
              "<p>689 rows × 5 columns</p>\n",
              "</div>\n",
              "      <button class=\"colab-df-convert\" onclick=\"convertToInteractive('df-b1a1fa0a-2acb-4d04-a7db-bcc705021409')\"\n",
              "              title=\"Convert this dataframe to an interactive table.\"\n",
              "              style=\"display:none;\">\n",
              "        \n",
              "  <svg xmlns=\"http://www.w3.org/2000/svg\" height=\"24px\"viewBox=\"0 0 24 24\"\n",
              "       width=\"24px\">\n",
              "    <path d=\"M0 0h24v24H0V0z\" fill=\"none\"/>\n",
              "    <path d=\"M18.56 5.44l.94 2.06.94-2.06 2.06-.94-2.06-.94-.94-2.06-.94 2.06-2.06.94zm-11 1L8.5 8.5l.94-2.06 2.06-.94-2.06-.94L8.5 2.5l-.94 2.06-2.06.94zm10 10l.94 2.06.94-2.06 2.06-.94-2.06-.94-.94-2.06-.94 2.06-2.06.94z\"/><path d=\"M17.41 7.96l-1.37-1.37c-.4-.4-.92-.59-1.43-.59-.52 0-1.04.2-1.43.59L10.3 9.45l-7.72 7.72c-.78.78-.78 2.05 0 2.83L4 21.41c.39.39.9.59 1.41.59.51 0 1.02-.2 1.41-.59l7.78-7.78 2.81-2.81c.8-.78.8-2.07 0-2.86zM5.41 20L4 18.59l7.72-7.72 1.47 1.35L5.41 20z\"/>\n",
              "  </svg>\n",
              "      </button>\n",
              "      \n",
              "  <style>\n",
              "    .colab-df-container {\n",
              "      display:flex;\n",
              "      flex-wrap:wrap;\n",
              "      gap: 12px;\n",
              "    }\n",
              "\n",
              "    .colab-df-convert {\n",
              "      background-color: #E8F0FE;\n",
              "      border: none;\n",
              "      border-radius: 50%;\n",
              "      cursor: pointer;\n",
              "      display: none;\n",
              "      fill: #1967D2;\n",
              "      height: 32px;\n",
              "      padding: 0 0 0 0;\n",
              "      width: 32px;\n",
              "    }\n",
              "\n",
              "    .colab-df-convert:hover {\n",
              "      background-color: #E2EBFA;\n",
              "      box-shadow: 0px 1px 2px rgba(60, 64, 67, 0.3), 0px 1px 3px 1px rgba(60, 64, 67, 0.15);\n",
              "      fill: #174EA6;\n",
              "    }\n",
              "\n",
              "    [theme=dark] .colab-df-convert {\n",
              "      background-color: #3B4455;\n",
              "      fill: #D2E3FC;\n",
              "    }\n",
              "\n",
              "    [theme=dark] .colab-df-convert:hover {\n",
              "      background-color: #434B5C;\n",
              "      box-shadow: 0px 1px 3px 1px rgba(0, 0, 0, 0.15);\n",
              "      filter: drop-shadow(0px 1px 2px rgba(0, 0, 0, 0.3));\n",
              "      fill: #FFFFFF;\n",
              "    }\n",
              "  </style>\n",
              "\n",
              "      <script>\n",
              "        const buttonEl =\n",
              "          document.querySelector('#df-b1a1fa0a-2acb-4d04-a7db-bcc705021409 button.colab-df-convert');\n",
              "        buttonEl.style.display =\n",
              "          google.colab.kernel.accessAllowed ? 'block' : 'none';\n",
              "\n",
              "        async function convertToInteractive(key) {\n",
              "          const element = document.querySelector('#df-b1a1fa0a-2acb-4d04-a7db-bcc705021409');\n",
              "          const dataTable =\n",
              "            await google.colab.kernel.invokeFunction('convertToInteractive',\n",
              "                                                     [key], {});\n",
              "          if (!dataTable) return;\n",
              "\n",
              "          const docLinkHtml = 'Like what you see? Visit the ' +\n",
              "            '<a target=\"_blank\" href=https://colab.research.google.com/notebooks/data_table.ipynb>data table notebook</a>'\n",
              "            + ' to learn more about interactive tables.';\n",
              "          element.innerHTML = '';\n",
              "          dataTable['output_type'] = 'display_data';\n",
              "          await google.colab.output.renderOutput(dataTable, element);\n",
              "          const docLink = document.createElement('div');\n",
              "          docLink.innerHTML = docLinkHtml;\n",
              "          element.appendChild(docLink);\n",
              "        }\n",
              "      </script>\n",
              "    </div>\n",
              "  </div>\n",
              "  "
            ]
          },
          "metadata": {},
          "execution_count": 20
        }
      ]
    },
    {
      "cell_type": "markdown",
      "source": [
        "# **Y-class**"
      ],
      "metadata": {
        "id": "rgd1MCdNyuih"
      }
    },
    {
      "cell_type": "code",
      "source": [
        "import re\n",
        "def MakeClass(text):\n",
        "  text=text.strip()[0]\n",
        "  string=text\n",
        "  pattern1 = re.compile(\"[a-i]\")\n",
        "  pattern2 = re.compile(\"[j-r]\")\n",
        "  pattern3 = re.compile(\"[s-z]\")\n",
        "  response1=pattern1.fullmatch(string)\n",
        "  response2=pattern2.fullmatch(string)\n",
        "  response3=pattern3.fullmatch(string)\n",
        "  if response1 is not None:\n",
        "    return \"Primary Zone\"\n",
        "  elif response2 is not None:\n",
        "    return \"Seconday Zone\"\n",
        "  elif response3 is not None:\n",
        "    return \"Tertiary Zone\"\n",
        "  else:\n",
        "    return \"Other\""
      ],
      "metadata": {
        "id": "pOK5s02Viv6L"
      },
      "execution_count": 21,
      "outputs": []
    },
    {
      "cell_type": "code",
      "source": [
        "df[\"Zone\"]=df[\"Words\"].apply(MakeClass)"
      ],
      "metadata": {
        "id": "oPs-NTGTmhoh"
      },
      "execution_count": 22,
      "outputs": []
    },
    {
      "cell_type": "code",
      "source": [
        "df"
      ],
      "metadata": {
        "colab": {
          "base_uri": "https://localhost:8080/",
          "height": 624
        },
        "id": "TqIruVT9mumk",
        "outputId": "02ed6936-dddd-42b8-b175-9952037db9e4"
      },
      "execution_count": 24,
      "outputs": [
        {
          "output_type": "execute_result",
          "data": {
            "text/plain": [
              "                  Words                                  wikidata_response  \\\n",
              "349079         sarcodic                                genus of cnidarians   \n",
              "290457  pericholangitis                                      Human disease   \n",
              "271455        organical                                 scientific article   \n",
              "97319       decentering     scientific article published on September 2015   \n",
              "282200       palynology  study of plant pollen, spores and certain micr...   \n",
              "...                 ...                                                ...   \n",
              "139483          firearm  weapon using combustion or an explosive charge...   \n",
              "6799            agalite           hydrous magnesium phyllosilicate mineral   \n",
              "203002            Juang  language spoken primarily by the Juang people ...   \n",
              "294642       phlogopite                  true mica, phyllosilicate mineral   \n",
              "405722       thiochrome                                  chemical compound   \n",
              "\n",
              "                                        Preprocessed text  Total words  \\\n",
              "349079                                genus of cnidarians            3   \n",
              "290457                                      human disease            2   \n",
              "271455                                 scientific article            2   \n",
              "97319      scientific article published on september 2015            6   \n",
              "282200  study of plant pollen spores and certain micro...           19   \n",
              "...                                                   ...          ...   \n",
              "139483  weapon using combustion or an explosive charge...           11   \n",
              "6799             hydrous magnesium phyllosilicate mineral            4   \n",
              "203002  language spoken primarily by the juang people ...           10   \n",
              "294642                   true mica phyllosilicate mineral            4   \n",
              "405722                                  chemical compound            2   \n",
              "\n",
              "        sentiment           Zone  \n",
              "349079        0.0  Tertiary Zone  \n",
              "290457        0.0  Seconday Zone  \n",
              "271455        0.0  Seconday Zone  \n",
              "97319         0.0   Primary Zone  \n",
              "282200        0.2  Seconday Zone  \n",
              "...           ...            ...  \n",
              "139483        0.0   Primary Zone  \n",
              "6799          0.0   Primary Zone  \n",
              "203002        0.4          Other  \n",
              "294642        0.3  Seconday Zone  \n",
              "405722        0.0  Tertiary Zone  \n",
              "\n",
              "[689 rows x 6 columns]"
            ],
            "text/html": [
              "\n",
              "  <div id=\"df-571ee9ca-7ad8-4ccd-a359-b87a847f4198\">\n",
              "    <div class=\"colab-df-container\">\n",
              "      <div>\n",
              "<style scoped>\n",
              "    .dataframe tbody tr th:only-of-type {\n",
              "        vertical-align: middle;\n",
              "    }\n",
              "\n",
              "    .dataframe tbody tr th {\n",
              "        vertical-align: top;\n",
              "    }\n",
              "\n",
              "    .dataframe thead th {\n",
              "        text-align: right;\n",
              "    }\n",
              "</style>\n",
              "<table border=\"1\" class=\"dataframe\">\n",
              "  <thead>\n",
              "    <tr style=\"text-align: right;\">\n",
              "      <th></th>\n",
              "      <th>Words</th>\n",
              "      <th>wikidata_response</th>\n",
              "      <th>Preprocessed text</th>\n",
              "      <th>Total words</th>\n",
              "      <th>sentiment</th>\n",
              "      <th>Zone</th>\n",
              "    </tr>\n",
              "  </thead>\n",
              "  <tbody>\n",
              "    <tr>\n",
              "      <th>349079</th>\n",
              "      <td>sarcodic</td>\n",
              "      <td>genus of cnidarians</td>\n",
              "      <td>genus of cnidarians</td>\n",
              "      <td>3</td>\n",
              "      <td>0.0</td>\n",
              "      <td>Tertiary Zone</td>\n",
              "    </tr>\n",
              "    <tr>\n",
              "      <th>290457</th>\n",
              "      <td>pericholangitis</td>\n",
              "      <td>Human disease</td>\n",
              "      <td>human disease</td>\n",
              "      <td>2</td>\n",
              "      <td>0.0</td>\n",
              "      <td>Seconday Zone</td>\n",
              "    </tr>\n",
              "    <tr>\n",
              "      <th>271455</th>\n",
              "      <td>organical</td>\n",
              "      <td>scientific article</td>\n",
              "      <td>scientific article</td>\n",
              "      <td>2</td>\n",
              "      <td>0.0</td>\n",
              "      <td>Seconday Zone</td>\n",
              "    </tr>\n",
              "    <tr>\n",
              "      <th>97319</th>\n",
              "      <td>decentering</td>\n",
              "      <td>scientific article published on September 2015</td>\n",
              "      <td>scientific article published on september 2015</td>\n",
              "      <td>6</td>\n",
              "      <td>0.0</td>\n",
              "      <td>Primary Zone</td>\n",
              "    </tr>\n",
              "    <tr>\n",
              "      <th>282200</th>\n",
              "      <td>palynology</td>\n",
              "      <td>study of plant pollen, spores and certain micr...</td>\n",
              "      <td>study of plant pollen spores and certain micro...</td>\n",
              "      <td>19</td>\n",
              "      <td>0.2</td>\n",
              "      <td>Seconday Zone</td>\n",
              "    </tr>\n",
              "    <tr>\n",
              "      <th>...</th>\n",
              "      <td>...</td>\n",
              "      <td>...</td>\n",
              "      <td>...</td>\n",
              "      <td>...</td>\n",
              "      <td>...</td>\n",
              "      <td>...</td>\n",
              "    </tr>\n",
              "    <tr>\n",
              "      <th>139483</th>\n",
              "      <td>firearm</td>\n",
              "      <td>weapon using combustion or an explosive charge...</td>\n",
              "      <td>weapon using combustion or an explosive charge...</td>\n",
              "      <td>11</td>\n",
              "      <td>0.0</td>\n",
              "      <td>Primary Zone</td>\n",
              "    </tr>\n",
              "    <tr>\n",
              "      <th>6799</th>\n",
              "      <td>agalite</td>\n",
              "      <td>hydrous magnesium phyllosilicate mineral</td>\n",
              "      <td>hydrous magnesium phyllosilicate mineral</td>\n",
              "      <td>4</td>\n",
              "      <td>0.0</td>\n",
              "      <td>Primary Zone</td>\n",
              "    </tr>\n",
              "    <tr>\n",
              "      <th>203002</th>\n",
              "      <td>Juang</td>\n",
              "      <td>language spoken primarily by the Juang people ...</td>\n",
              "      <td>language spoken primarily by the juang people ...</td>\n",
              "      <td>10</td>\n",
              "      <td>0.4</td>\n",
              "      <td>Other</td>\n",
              "    </tr>\n",
              "    <tr>\n",
              "      <th>294642</th>\n",
              "      <td>phlogopite</td>\n",
              "      <td>true mica, phyllosilicate mineral</td>\n",
              "      <td>true mica phyllosilicate mineral</td>\n",
              "      <td>4</td>\n",
              "      <td>0.3</td>\n",
              "      <td>Seconday Zone</td>\n",
              "    </tr>\n",
              "    <tr>\n",
              "      <th>405722</th>\n",
              "      <td>thiochrome</td>\n",
              "      <td>chemical compound</td>\n",
              "      <td>chemical compound</td>\n",
              "      <td>2</td>\n",
              "      <td>0.0</td>\n",
              "      <td>Tertiary Zone</td>\n",
              "    </tr>\n",
              "  </tbody>\n",
              "</table>\n",
              "<p>689 rows × 6 columns</p>\n",
              "</div>\n",
              "      <button class=\"colab-df-convert\" onclick=\"convertToInteractive('df-571ee9ca-7ad8-4ccd-a359-b87a847f4198')\"\n",
              "              title=\"Convert this dataframe to an interactive table.\"\n",
              "              style=\"display:none;\">\n",
              "        \n",
              "  <svg xmlns=\"http://www.w3.org/2000/svg\" height=\"24px\"viewBox=\"0 0 24 24\"\n",
              "       width=\"24px\">\n",
              "    <path d=\"M0 0h24v24H0V0z\" fill=\"none\"/>\n",
              "    <path d=\"M18.56 5.44l.94 2.06.94-2.06 2.06-.94-2.06-.94-.94-2.06-.94 2.06-2.06.94zm-11 1L8.5 8.5l.94-2.06 2.06-.94-2.06-.94L8.5 2.5l-.94 2.06-2.06.94zm10 10l.94 2.06.94-2.06 2.06-.94-2.06-.94-.94-2.06-.94 2.06-2.06.94z\"/><path d=\"M17.41 7.96l-1.37-1.37c-.4-.4-.92-.59-1.43-.59-.52 0-1.04.2-1.43.59L10.3 9.45l-7.72 7.72c-.78.78-.78 2.05 0 2.83L4 21.41c.39.39.9.59 1.41.59.51 0 1.02-.2 1.41-.59l7.78-7.78 2.81-2.81c.8-.78.8-2.07 0-2.86zM5.41 20L4 18.59l7.72-7.72 1.47 1.35L5.41 20z\"/>\n",
              "  </svg>\n",
              "      </button>\n",
              "      \n",
              "  <style>\n",
              "    .colab-df-container {\n",
              "      display:flex;\n",
              "      flex-wrap:wrap;\n",
              "      gap: 12px;\n",
              "    }\n",
              "\n",
              "    .colab-df-convert {\n",
              "      background-color: #E8F0FE;\n",
              "      border: none;\n",
              "      border-radius: 50%;\n",
              "      cursor: pointer;\n",
              "      display: none;\n",
              "      fill: #1967D2;\n",
              "      height: 32px;\n",
              "      padding: 0 0 0 0;\n",
              "      width: 32px;\n",
              "    }\n",
              "\n",
              "    .colab-df-convert:hover {\n",
              "      background-color: #E2EBFA;\n",
              "      box-shadow: 0px 1px 2px rgba(60, 64, 67, 0.3), 0px 1px 3px 1px rgba(60, 64, 67, 0.15);\n",
              "      fill: #174EA6;\n",
              "    }\n",
              "\n",
              "    [theme=dark] .colab-df-convert {\n",
              "      background-color: #3B4455;\n",
              "      fill: #D2E3FC;\n",
              "    }\n",
              "\n",
              "    [theme=dark] .colab-df-convert:hover {\n",
              "      background-color: #434B5C;\n",
              "      box-shadow: 0px 1px 3px 1px rgba(0, 0, 0, 0.15);\n",
              "      filter: drop-shadow(0px 1px 2px rgba(0, 0, 0, 0.3));\n",
              "      fill: #FFFFFF;\n",
              "    }\n",
              "  </style>\n",
              "\n",
              "      <script>\n",
              "        const buttonEl =\n",
              "          document.querySelector('#df-571ee9ca-7ad8-4ccd-a359-b87a847f4198 button.colab-df-convert');\n",
              "        buttonEl.style.display =\n",
              "          google.colab.kernel.accessAllowed ? 'block' : 'none';\n",
              "\n",
              "        async function convertToInteractive(key) {\n",
              "          const element = document.querySelector('#df-571ee9ca-7ad8-4ccd-a359-b87a847f4198');\n",
              "          const dataTable =\n",
              "            await google.colab.kernel.invokeFunction('convertToInteractive',\n",
              "                                                     [key], {});\n",
              "          if (!dataTable) return;\n",
              "\n",
              "          const docLinkHtml = 'Like what you see? Visit the ' +\n",
              "            '<a target=\"_blank\" href=https://colab.research.google.com/notebooks/data_table.ipynb>data table notebook</a>'\n",
              "            + ' to learn more about interactive tables.';\n",
              "          element.innerHTML = '';\n",
              "          dataTable['output_type'] = 'display_data';\n",
              "          await google.colab.output.renderOutput(dataTable, element);\n",
              "          const docLink = document.createElement('div');\n",
              "          docLink.innerHTML = docLinkHtml;\n",
              "          element.appendChild(docLink);\n",
              "        }\n",
              "      </script>\n",
              "    </div>\n",
              "  </div>\n",
              "  "
            ]
          },
          "metadata": {},
          "execution_count": 24
        }
      ]
    },
    {
      "cell_type": "code",
      "source": [
        "#df.to_csv(\"dataset.csv\", encoding='utf-8', index=False)"
      ],
      "metadata": {
        "id": "iqA4sg3VpaO3"
      },
      "execution_count": 26,
      "outputs": []
    },
    {
      "cell_type": "code",
      "source": [
        "df.shape"
      ],
      "metadata": {
        "colab": {
          "base_uri": "https://localhost:8080/"
        },
        "id": "Jk8ZtrXQpwjk",
        "outputId": "0ac3d234-9714-43c5-9e0e-1e341ae18840"
      },
      "execution_count": 29,
      "outputs": [
        {
          "output_type": "execute_result",
          "data": {
            "text/plain": [
              "(689, 6)"
            ]
          },
          "metadata": {},
          "execution_count": 29
        }
      ]
    },
    {
      "cell_type": "markdown",
      "source": [
        "# **Label Encoding**"
      ],
      "metadata": {
        "id": "ggDNIp3Dy1kn"
      }
    },
    {
      "cell_type": "code",
      "source": [
        "from sklearn.preprocessing import LabelEncoder\n",
        "df=df.apply(LabelEncoder().fit_transform)\n",
        "df"
      ],
      "metadata": {
        "colab": {
          "base_uri": "https://localhost:8080/",
          "height": 424
        },
        "id": "LLuZWgsXp8QR",
        "outputId": "678b23c6-bf66-41cd-9c84-a9249e9bd30e"
      },
      "execution_count": 30,
      "outputs": [
        {
          "output_type": "execute_result",
          "data": {
            "text/plain": [
              "        Words  wikidata_response  Preprocessed text  Total words  sentiment  \\\n",
              "349079    578                236                184            2          6   \n",
              "290457    516                 62                211            1          6   \n",
              "271455    499                372                353            1          6   \n",
              "97319     317                436                417            5          6   \n",
              "282200    506                464                453           17          8   \n",
              "...       ...                ...                ...          ...        ...   \n",
              "139483    364                526                522           10          6   \n",
              "6799      205                267                223            3          6   \n",
              "203002    101                278                240            9         10   \n",
              "294642    523                486                480            3          9   \n",
              "405722    641                162                 94            1          6   \n",
              "\n",
              "        Zone  \n",
              "349079     3  \n",
              "290457     2  \n",
              "271455     2  \n",
              "97319      1  \n",
              "282200     2  \n",
              "...      ...  \n",
              "139483     1  \n",
              "6799       1  \n",
              "203002     0  \n",
              "294642     2  \n",
              "405722     3  \n",
              "\n",
              "[689 rows x 6 columns]"
            ],
            "text/html": [
              "\n",
              "  <div id=\"df-421f709b-1d1b-4a89-9dd2-80fecee970d5\">\n",
              "    <div class=\"colab-df-container\">\n",
              "      <div>\n",
              "<style scoped>\n",
              "    .dataframe tbody tr th:only-of-type {\n",
              "        vertical-align: middle;\n",
              "    }\n",
              "\n",
              "    .dataframe tbody tr th {\n",
              "        vertical-align: top;\n",
              "    }\n",
              "\n",
              "    .dataframe thead th {\n",
              "        text-align: right;\n",
              "    }\n",
              "</style>\n",
              "<table border=\"1\" class=\"dataframe\">\n",
              "  <thead>\n",
              "    <tr style=\"text-align: right;\">\n",
              "      <th></th>\n",
              "      <th>Words</th>\n",
              "      <th>wikidata_response</th>\n",
              "      <th>Preprocessed text</th>\n",
              "      <th>Total words</th>\n",
              "      <th>sentiment</th>\n",
              "      <th>Zone</th>\n",
              "    </tr>\n",
              "  </thead>\n",
              "  <tbody>\n",
              "    <tr>\n",
              "      <th>349079</th>\n",
              "      <td>578</td>\n",
              "      <td>236</td>\n",
              "      <td>184</td>\n",
              "      <td>2</td>\n",
              "      <td>6</td>\n",
              "      <td>3</td>\n",
              "    </tr>\n",
              "    <tr>\n",
              "      <th>290457</th>\n",
              "      <td>516</td>\n",
              "      <td>62</td>\n",
              "      <td>211</td>\n",
              "      <td>1</td>\n",
              "      <td>6</td>\n",
              "      <td>2</td>\n",
              "    </tr>\n",
              "    <tr>\n",
              "      <th>271455</th>\n",
              "      <td>499</td>\n",
              "      <td>372</td>\n",
              "      <td>353</td>\n",
              "      <td>1</td>\n",
              "      <td>6</td>\n",
              "      <td>2</td>\n",
              "    </tr>\n",
              "    <tr>\n",
              "      <th>97319</th>\n",
              "      <td>317</td>\n",
              "      <td>436</td>\n",
              "      <td>417</td>\n",
              "      <td>5</td>\n",
              "      <td>6</td>\n",
              "      <td>1</td>\n",
              "    </tr>\n",
              "    <tr>\n",
              "      <th>282200</th>\n",
              "      <td>506</td>\n",
              "      <td>464</td>\n",
              "      <td>453</td>\n",
              "      <td>17</td>\n",
              "      <td>8</td>\n",
              "      <td>2</td>\n",
              "    </tr>\n",
              "    <tr>\n",
              "      <th>...</th>\n",
              "      <td>...</td>\n",
              "      <td>...</td>\n",
              "      <td>...</td>\n",
              "      <td>...</td>\n",
              "      <td>...</td>\n",
              "      <td>...</td>\n",
              "    </tr>\n",
              "    <tr>\n",
              "      <th>139483</th>\n",
              "      <td>364</td>\n",
              "      <td>526</td>\n",
              "      <td>522</td>\n",
              "      <td>10</td>\n",
              "      <td>6</td>\n",
              "      <td>1</td>\n",
              "    </tr>\n",
              "    <tr>\n",
              "      <th>6799</th>\n",
              "      <td>205</td>\n",
              "      <td>267</td>\n",
              "      <td>223</td>\n",
              "      <td>3</td>\n",
              "      <td>6</td>\n",
              "      <td>1</td>\n",
              "    </tr>\n",
              "    <tr>\n",
              "      <th>203002</th>\n",
              "      <td>101</td>\n",
              "      <td>278</td>\n",
              "      <td>240</td>\n",
              "      <td>9</td>\n",
              "      <td>10</td>\n",
              "      <td>0</td>\n",
              "    </tr>\n",
              "    <tr>\n",
              "      <th>294642</th>\n",
              "      <td>523</td>\n",
              "      <td>486</td>\n",
              "      <td>480</td>\n",
              "      <td>3</td>\n",
              "      <td>9</td>\n",
              "      <td>2</td>\n",
              "    </tr>\n",
              "    <tr>\n",
              "      <th>405722</th>\n",
              "      <td>641</td>\n",
              "      <td>162</td>\n",
              "      <td>94</td>\n",
              "      <td>1</td>\n",
              "      <td>6</td>\n",
              "      <td>3</td>\n",
              "    </tr>\n",
              "  </tbody>\n",
              "</table>\n",
              "<p>689 rows × 6 columns</p>\n",
              "</div>\n",
              "      <button class=\"colab-df-convert\" onclick=\"convertToInteractive('df-421f709b-1d1b-4a89-9dd2-80fecee970d5')\"\n",
              "              title=\"Convert this dataframe to an interactive table.\"\n",
              "              style=\"display:none;\">\n",
              "        \n",
              "  <svg xmlns=\"http://www.w3.org/2000/svg\" height=\"24px\"viewBox=\"0 0 24 24\"\n",
              "       width=\"24px\">\n",
              "    <path d=\"M0 0h24v24H0V0z\" fill=\"none\"/>\n",
              "    <path d=\"M18.56 5.44l.94 2.06.94-2.06 2.06-.94-2.06-.94-.94-2.06-.94 2.06-2.06.94zm-11 1L8.5 8.5l.94-2.06 2.06-.94-2.06-.94L8.5 2.5l-.94 2.06-2.06.94zm10 10l.94 2.06.94-2.06 2.06-.94-2.06-.94-.94-2.06-.94 2.06-2.06.94z\"/><path d=\"M17.41 7.96l-1.37-1.37c-.4-.4-.92-.59-1.43-.59-.52 0-1.04.2-1.43.59L10.3 9.45l-7.72 7.72c-.78.78-.78 2.05 0 2.83L4 21.41c.39.39.9.59 1.41.59.51 0 1.02-.2 1.41-.59l7.78-7.78 2.81-2.81c.8-.78.8-2.07 0-2.86zM5.41 20L4 18.59l7.72-7.72 1.47 1.35L5.41 20z\"/>\n",
              "  </svg>\n",
              "      </button>\n",
              "      \n",
              "  <style>\n",
              "    .colab-df-container {\n",
              "      display:flex;\n",
              "      flex-wrap:wrap;\n",
              "      gap: 12px;\n",
              "    }\n",
              "\n",
              "    .colab-df-convert {\n",
              "      background-color: #E8F0FE;\n",
              "      border: none;\n",
              "      border-radius: 50%;\n",
              "      cursor: pointer;\n",
              "      display: none;\n",
              "      fill: #1967D2;\n",
              "      height: 32px;\n",
              "      padding: 0 0 0 0;\n",
              "      width: 32px;\n",
              "    }\n",
              "\n",
              "    .colab-df-convert:hover {\n",
              "      background-color: #E2EBFA;\n",
              "      box-shadow: 0px 1px 2px rgba(60, 64, 67, 0.3), 0px 1px 3px 1px rgba(60, 64, 67, 0.15);\n",
              "      fill: #174EA6;\n",
              "    }\n",
              "\n",
              "    [theme=dark] .colab-df-convert {\n",
              "      background-color: #3B4455;\n",
              "      fill: #D2E3FC;\n",
              "    }\n",
              "\n",
              "    [theme=dark] .colab-df-convert:hover {\n",
              "      background-color: #434B5C;\n",
              "      box-shadow: 0px 1px 3px 1px rgba(0, 0, 0, 0.15);\n",
              "      filter: drop-shadow(0px 1px 2px rgba(0, 0, 0, 0.3));\n",
              "      fill: #FFFFFF;\n",
              "    }\n",
              "  </style>\n",
              "\n",
              "      <script>\n",
              "        const buttonEl =\n",
              "          document.querySelector('#df-421f709b-1d1b-4a89-9dd2-80fecee970d5 button.colab-df-convert');\n",
              "        buttonEl.style.display =\n",
              "          google.colab.kernel.accessAllowed ? 'block' : 'none';\n",
              "\n",
              "        async function convertToInteractive(key) {\n",
              "          const element = document.querySelector('#df-421f709b-1d1b-4a89-9dd2-80fecee970d5');\n",
              "          const dataTable =\n",
              "            await google.colab.kernel.invokeFunction('convertToInteractive',\n",
              "                                                     [key], {});\n",
              "          if (!dataTable) return;\n",
              "\n",
              "          const docLinkHtml = 'Like what you see? Visit the ' +\n",
              "            '<a target=\"_blank\" href=https://colab.research.google.com/notebooks/data_table.ipynb>data table notebook</a>'\n",
              "            + ' to learn more about interactive tables.';\n",
              "          element.innerHTML = '';\n",
              "          dataTable['output_type'] = 'display_data';\n",
              "          await google.colab.output.renderOutput(dataTable, element);\n",
              "          const docLink = document.createElement('div');\n",
              "          docLink.innerHTML = docLinkHtml;\n",
              "          element.appendChild(docLink);\n",
              "        }\n",
              "      </script>\n",
              "    </div>\n",
              "  </div>\n",
              "  "
            ]
          },
          "metadata": {},
          "execution_count": 30
        }
      ]
    },
    {
      "cell_type": "code",
      "source": [
        "df.plot(kind='density')"
      ],
      "metadata": {
        "colab": {
          "base_uri": "https://localhost:8080/",
          "height": 282
        },
        "id": "Om99q03VqVmr",
        "outputId": "efec6036-a850-4bda-a5ad-dfc1fc93b7c5"
      },
      "execution_count": 32,
      "outputs": [
        {
          "output_type": "execute_result",
          "data": {
            "text/plain": [
              "<matplotlib.axes._subplots.AxesSubplot at 0x7f9e759e6190>"
            ]
          },
          "metadata": {},
          "execution_count": 32
        },
        {
          "output_type": "display_data",
          "data": {
            "text/plain": [
              "<Figure size 432x288 with 1 Axes>"
            ],
            "image/png": "[encoded data removed]"
          },
          "metadata": {
            "needs_background": "light"
          }
        }
      ]
    },
    {
      "cell_type": "code",
      "source": [
        "X=df.iloc[:, :-1]"
      ],
      "metadata": {
        "id": "9xEzTG42qdqS"
      },
      "execution_count": 33,
      "outputs": []
    },
    {
      "cell_type": "code",
      "source": [
        "X.shape"
      ],
      "metadata": {
        "colab": {
          "base_uri": "https://localhost:8080/"
        },
        "id": "V5ZtcDrhqf_u",
        "outputId": "74ff23fc-f387-401f-ea07-6e1c5d1bf471"
      },
      "execution_count": 34,
      "outputs": [
        {
          "output_type": "execute_result",
          "data": {
            "text/plain": [
              "(689, 5)"
            ]
          },
          "metadata": {},
          "execution_count": 34
        }
      ]
    },
    {
      "cell_type": "code",
      "source": [
        "X"
      ],
      "metadata": {
        "colab": {
          "base_uri": "https://localhost:8080/",
          "height": 424
        },
        "id": "y3D5gaK9qijs",
        "outputId": "df7c30d1-11bb-445b-8c9f-88499046e740"
      },
      "execution_count": 35,
      "outputs": [
        {
          "output_type": "execute_result",
          "data": {
            "text/plain": [
              "        Words  wikidata_response  Preprocessed text  Total words  sentiment\n",
              "349079    578                236                184            2          6\n",
              "290457    516                 62                211            1          6\n",
              "271455    499                372                353            1          6\n",
              "97319     317                436                417            5          6\n",
              "282200    506                464                453           17          8\n",
              "...       ...                ...                ...          ...        ...\n",
              "139483    364                526                522           10          6\n",
              "6799      205                267                223            3          6\n",
              "203002    101                278                240            9         10\n",
              "294642    523                486                480            3          9\n",
              "405722    641                162                 94            1          6\n",
              "\n",
              "[689 rows x 5 columns]"
            ],
            "text/html": [
              "\n",
              "  <div id=\"df-d0523feb-1679-4479-bc72-5a0851fdf95b\">\n",
              "    <div class=\"colab-df-container\">\n",
              "      <div>\n",
              "<style scoped>\n",
              "    .dataframe tbody tr th:only-of-type {\n",
              "        vertical-align: middle;\n",
              "    }\n",
              "\n",
              "    .dataframe tbody tr th {\n",
              "        vertical-align: top;\n",
              "    }\n",
              "\n",
              "    .dataframe thead th {\n",
              "        text-align: right;\n",
              "    }\n",
              "</style>\n",
              "<table border=\"1\" class=\"dataframe\">\n",
              "  <thead>\n",
              "    <tr style=\"text-align: right;\">\n",
              "      <th></th>\n",
              "      <th>Words</th>\n",
              "      <th>wikidata_response</th>\n",
              "      <th>Preprocessed text</th>\n",
              "      <th>Total words</th>\n",
              "      <th>sentiment</th>\n",
              "    </tr>\n",
              "  </thead>\n",
              "  <tbody>\n",
              "    <tr>\n",
              "      <th>349079</th>\n",
              "      <td>578</td>\n",
              "      <td>236</td>\n",
              "      <td>184</td>\n",
              "      <td>2</td>\n",
              "      <td>6</td>\n",
              "    </tr>\n",
              "    <tr>\n",
              "      <th>290457</th>\n",
              "      <td>516</td>\n",
              "      <td>62</td>\n",
              "      <td>211</td>\n",
              "      <td>1</td>\n",
              "      <td>6</td>\n",
              "    </tr>\n",
              "    <tr>\n",
              "      <th>271455</th>\n",
              "      <td>499</td>\n",
              "      <td>372</td>\n",
              "      <td>353</td>\n",
              "      <td>1</td>\n",
              "      <td>6</td>\n",
              "    </tr>\n",
              "    <tr>\n",
              "      <th>97319</th>\n",
              "      <td>317</td>\n",
              "      <td>436</td>\n",
              "      <td>417</td>\n",
              "      <td>5</td>\n",
              "      <td>6</td>\n",
              "    </tr>\n",
              "    <tr>\n",
              "      <th>282200</th>\n",
              "      <td>506</td>\n",
              "      <td>464</td>\n",
              "      <td>453</td>\n",
              "      <td>17</td>\n",
              "      <td>8</td>\n",
              "    </tr>\n",
              "    <tr>\n",
              "      <th>...</th>\n",
              "      <td>...</td>\n",
              "      <td>...</td>\n",
              "      <td>...</td>\n",
              "      <td>...</td>\n",
              "      <td>...</td>\n",
              "    </tr>\n",
              "    <tr>\n",
              "      <th>139483</th>\n",
              "      <td>364</td>\n",
              "      <td>526</td>\n",
              "      <td>522</td>\n",
              "      <td>10</td>\n",
              "      <td>6</td>\n",
              "    </tr>\n",
              "    <tr>\n",
              "      <th>6799</th>\n",
              "      <td>205</td>\n",
              "      <td>267</td>\n",
              "      <td>223</td>\n",
              "      <td>3</td>\n",
              "      <td>6</td>\n",
              "    </tr>\n",
              "    <tr>\n",
              "      <th>203002</th>\n",
              "      <td>101</td>\n",
              "      <td>278</td>\n",
              "      <td>240</td>\n",
              "      <td>9</td>\n",
              "      <td>10</td>\n",
              "    </tr>\n",
              "    <tr>\n",
              "      <th>294642</th>\n",
              "      <td>523</td>\n",
              "      <td>486</td>\n",
              "      <td>480</td>\n",
              "      <td>3</td>\n",
              "      <td>9</td>\n",
              "    </tr>\n",
              "    <tr>\n",
              "      <th>405722</th>\n",
              "      <td>641</td>\n",
              "      <td>162</td>\n",
              "      <td>94</td>\n",
              "      <td>1</td>\n",
              "      <td>6</td>\n",
              "    </tr>\n",
              "  </tbody>\n",
              "</table>\n",
              "<p>689 rows × 5 columns</p>\n",
              "</div>\n",
              "      <button class=\"colab-df-convert\" onclick=\"convertToInteractive('df-d0523feb-1679-4479-bc72-5a0851fdf95b')\"\n",
              "              title=\"Convert this dataframe to an interactive table.\"\n",
              "              style=\"display:none;\">\n",
              "        \n",
              "  <svg xmlns=\"http://www.w3.org/2000/svg\" height=\"24px\"viewBox=\"0 0 24 24\"\n",
              "       width=\"24px\">\n",
              "    <path d=\"M0 0h24v24H0V0z\" fill=\"none\"/>\n",
              "    <path d=\"M18.56 5.44l.94 2.06.94-2.06 2.06-.94-2.06-.94-.94-2.06-.94 2.06-2.06.94zm-11 1L8.5 8.5l.94-2.06 2.06-.94-2.06-.94L8.5 2.5l-.94 2.06-2.06.94zm10 10l.94 2.06.94-2.06 2.06-.94-2.06-.94-.94-2.06-.94 2.06-2.06.94z\"/><path d=\"M17.41 7.96l-1.37-1.37c-.4-.4-.92-.59-1.43-.59-.52 0-1.04.2-1.43.59L10.3 9.45l-7.72 7.72c-.78.78-.78 2.05 0 2.83L4 21.41c.39.39.9.59 1.41.59.51 0 1.02-.2 1.41-.59l7.78-7.78 2.81-2.81c.8-.78.8-2.07 0-2.86zM5.41 20L4 18.59l7.72-7.72 1.47 1.35L5.41 20z\"/>\n",
              "  </svg>\n",
              "      </button>\n",
              "      \n",
              "  <style>\n",
              "    .colab-df-container {\n",
              "      display:flex;\n",
              "      flex-wrap:wrap;\n",
              "      gap: 12px;\n",
              "    }\n",
              "\n",
              "    .colab-df-convert {\n",
              "      background-color: #E8F0FE;\n",
              "      border: none;\n",
              "      border-radius: 50%;\n",
              "      cursor: pointer;\n",
              "      display: none;\n",
              "      fill: #1967D2;\n",
              "      height: 32px;\n",
              "      padding: 0 0 0 0;\n",
              "      width: 32px;\n",
              "    }\n",
              "\n",
              "    .colab-df-convert:hover {\n",
              "      background-color: #E2EBFA;\n",
              "      box-shadow: 0px 1px 2px rgba(60, 64, 67, 0.3), 0px 1px 3px 1px rgba(60, 64, 67, 0.15);\n",
              "      fill: #174EA6;\n",
              "    }\n",
              "\n",
              "    [theme=dark] .colab-df-convert {\n",
              "      background-color: #3B4455;\n",
              "      fill: #D2E3FC;\n",
              "    }\n",
              "\n",
              "    [theme=dark] .colab-df-convert:hover {\n",
              "      background-color: #434B5C;\n",
              "      box-shadow: 0px 1px 3px 1px rgba(0, 0, 0, 0.15);\n",
              "      filter: drop-shadow(0px 1px 2px rgba(0, 0, 0, 0.3));\n",
              "      fill: #FFFFFF;\n",
              "    }\n",
              "  </style>\n",
              "\n",
              "      <script>\n",
              "        const buttonEl =\n",
              "          document.querySelector('#df-d0523feb-1679-4479-bc72-5a0851fdf95b button.colab-df-convert');\n",
              "        buttonEl.style.display =\n",
              "          google.colab.kernel.accessAllowed ? 'block' : 'none';\n",
              "\n",
              "        async function convertToInteractive(key) {\n",
              "          const element = document.querySelector('#df-d0523feb-1679-4479-bc72-5a0851fdf95b');\n",
              "          const dataTable =\n",
              "            await google.colab.kernel.invokeFunction('convertToInteractive',\n",
              "                                                     [key], {});\n",
              "          if (!dataTable) return;\n",
              "\n",
              "          const docLinkHtml = 'Like what you see? Visit the ' +\n",
              "            '<a target=\"_blank\" href=https://colab.research.google.com/notebooks/data_table.ipynb>data table notebook</a>'\n",
              "            + ' to learn more about interactive tables.';\n",
              "          element.innerHTML = '';\n",
              "          dataTable['output_type'] = 'display_data';\n",
              "          await google.colab.output.renderOutput(dataTable, element);\n",
              "          const docLink = document.createElement('div');\n",
              "          docLink.innerHTML = docLinkHtml;\n",
              "          element.appendChild(docLink);\n",
              "        }\n",
              "      </script>\n",
              "    </div>\n",
              "  </div>\n",
              "  "
            ]
          },
          "metadata": {},
          "execution_count": 35
        }
      ]
    },
    {
      "cell_type": "code",
      "source": [
        "from sklearn.preprocessing import LabelEncoder\n",
        "y=df.iloc[:,-1]\n",
        "y.shape"
      ],
      "metadata": {
        "colab": {
          "base_uri": "https://localhost:8080/"
        },
        "id": "VNrj4NilqkWt",
        "outputId": "89107d23-9bc3-4e23-a91b-a7b7e155b072"
      },
      "execution_count": 36,
      "outputs": [
        {
          "output_type": "execute_result",
          "data": {
            "text/plain": [
              "(689,)"
            ]
          },
          "metadata": {},
          "execution_count": 36
        }
      ]
    },
    {
      "cell_type": "code",
      "source": [
        "y"
      ],
      "metadata": {
        "colab": {
          "base_uri": "https://localhost:8080/"
        },
        "id": "K8JtxETzqmMw",
        "outputId": "9b596722-d92f-4338-ace5-0b51ebe0d66f"
      },
      "execution_count": 37,
      "outputs": [
        {
          "output_type": "execute_result",
          "data": {
            "text/plain": [
              "349079    3\n",
              "290457    2\n",
              "271455    2\n",
              "97319     1\n",
              "282200    2\n",
              "         ..\n",
              "139483    1\n",
              "6799      1\n",
              "203002    0\n",
              "294642    2\n",
              "405722    3\n",
              "Name: Zone, Length: 689, dtype: int64"
            ]
          },
          "metadata": {},
          "execution_count": 37
        }
      ]
    },
    {
      "cell_type": "markdown",
      "source": [
        "# **Standard Scaling**"
      ],
      "metadata": {
        "id": "fEvdTPqPy6SN"
      }
    },
    {
      "cell_type": "code",
      "source": [
        "# Scale the data to be between -1 and 1\n",
        "from sklearn.preprocessing import StandardScaler\n",
        "scaler = StandardScaler()\n",
        "scaler.fit(X)\n",
        "X = scaler.transform(X)"
      ],
      "metadata": {
        "id": "i1LCw7EGqo9L"
      },
      "execution_count": 38,
      "outputs": []
    },
    {
      "cell_type": "markdown",
      "source": [
        "**Split data in train and test category**"
      ],
      "metadata": {
        "id": "BBZHLagEy9Dt"
      }
    },
    {
      "cell_type": "code",
      "source": [
        "from sklearn.model_selection import train_test_split\n",
        "X_train, X_test, y_train, y_test = train_test_split(X, y, test_size=0.2, random_state=1)"
      ],
      "metadata": {
        "id": "FVPM0_psqsCl"
      },
      "execution_count": 39,
      "outputs": []
    },
    {
      "cell_type": "markdown",
      "source": [
        "**Support Vector Machine**"
      ],
      "metadata": {
        "id": "d_s8vzgbzBpr"
      }
    },
    {
      "cell_type": "code",
      "source": [
        "from sklearn.svm import SVC\n",
        "from sklearn import metrics\n",
        "svc=SVC(kernel='linear') #Default hyperparameters\n",
        "model=svc.fit(X_train,y_train)\n",
        "y_pred=model.predict(X_test)\n",
        "print('Accuracy Score:')\n",
        "print(metrics.accuracy_score(y_test,y_pred))"
      ],
      "metadata": {
        "colab": {
          "base_uri": "https://localhost:8080/"
        },
        "id": "8IKza1yrqtxA",
        "outputId": "799d0c84-e6b5-4074-893e-7865b3804770"
      },
      "execution_count": 40,
      "outputs": [
        {
          "output_type": "stream",
          "name": "stdout",
          "text": [
            "Accuracy Score:\n",
            "0.9782608695652174\n"
          ]
        }
      ]
    },
    {
      "cell_type": "code",
      "source": [
        "from sklearn.metrics import classification_report\n",
        "print(classification_report(y_test, y_pred))"
      ],
      "metadata": {
        "colab": {
          "base_uri": "https://localhost:8080/"
        },
        "id": "2mAfgsK4qv95",
        "outputId": "ef6353a9-6a0a-445a-a8be-08686745bd25"
      },
      "execution_count": 41,
      "outputs": [
        {
          "output_type": "stream",
          "name": "stdout",
          "text": [
            "              precision    recall  f1-score   support\n",
            "\n",
            "           0       1.00      0.97      0.99        37\n",
            "           1       0.96      1.00      0.98        54\n",
            "           2       1.00      0.91      0.95        23\n",
            "           3       0.96      1.00      0.98        24\n",
            "\n",
            "    accuracy                           0.98       138\n",
            "   macro avg       0.98      0.97      0.98       138\n",
            "weighted avg       0.98      0.98      0.98       138\n",
            "\n"
          ]
        }
      ]
    },
    {
      "cell_type": "code",
      "source": [
        "from sklearn.metrics import confusion_matrix\n",
        "from sklearn.metrics import plot_confusion_matrix\n",
        "import matplotlib.pyplot as plt"
      ],
      "metadata": {
        "id": "6eKlsbf1qyou"
      },
      "execution_count": 42,
      "outputs": []
    },
    {
      "cell_type": "code",
      "source": [
        "fig, ax = plt.subplots(figsize=(10, 10))\n",
        "plot_confusion_matrix(model,X_test, y_pred,ax=ax) "
      ],
      "metadata": {
        "colab": {
          "base_uri": "https://localhost:8080/",
          "height": 652
        },
        "id": "bmhtnwiAq1DF",
        "outputId": "1164078b-5bf6-4833-c193-f6bbdac7de7b"
      },
      "execution_count": 43,
      "outputs": [
        {
          "output_type": "stream",
          "name": "stderr",
          "text": [
            "/usr/local/lib/python3.7/dist-packages/sklearn/utils/deprecation.py:87: FutureWarning: Function plot_confusion_matrix is deprecated; Function `plot_confusion_matrix` is deprecated in 1.0 and will be removed in 1.2. Use one of the class methods: ConfusionMatrixDisplay.from_predictions or ConfusionMatrixDisplay.from_estimator.\n",
            "  warnings.warn(msg, category=FutureWarning)\n"
          ]
        },
        {
          "output_type": "execute_result",
          "data": {
            "text/plain": [
              "<sklearn.metrics._plot.confusion_matrix.ConfusionMatrixDisplay at 0x7f9e75a28890>"
            ]
          },
          "metadata": {},
          "execution_count": 43
        },
        {
          "output_type": "display_data",
          "data": {
            "text/plain": [
              "<Figure size 720x720 with 2 Axes>"
            ],
            "image/png": "[encoded data removed]"
          },
          "metadata": {
            "needs_background": "light"
          }
        }
      ]
    },
    {
      "cell_type": "code",
      "source": [
        "model=SVC(kernel='linear')\n",
        "from sklearn.model_selection import cross_validate\n",
        "cv_results1 = cross_validate(model,X_train, y_train, cv=3)"
      ],
      "metadata": {
        "id": "NY3FkV1yq33z"
      },
      "execution_count": 44,
      "outputs": []
    },
    {
      "cell_type": "code",
      "source": [
        "X11=[\"Fold 1\",\"Fold 2\",\"Fold 3\"]\n",
        "import matplotlib.pyplot as plt\n",
        "fig = plt.figure()\n",
        "ax = fig.add_axes([0,0,1,1])\n",
        "ax.bar(X11,list(cv_results1['test_score']),color='blue')\n",
        "plt.title(\"SVM ALGORITHM_ Folds and test score\")\n",
        "plt.xlabel(\"Number of Folds \")\n",
        "plt.ylabel(\"test score \")\n",
        "\n",
        "plt.grid()\n",
        "plt.show()"
      ],
      "metadata": {
        "colab": {
          "base_uri": "https://localhost:8080/",
          "height": 366
        },
        "id": "8b1Rla21q9Bi",
        "outputId": "75649326-9176-4130-b1a9-99354ac89776"
      },
      "execution_count": 46,
      "outputs": [
        {
          "output_type": "display_data",
          "data": {
            "text/plain": [
              "<Figure size 432x288 with 1 Axes>"
            ],
            "image/png": "[encoded data removed]"
          },
          "metadata": {
            "needs_background": "light"
          }
        }
      ]
    },
    {
      "cell_type": "code",
      "source": [
        "scores1 = cross_validate(model,X_train, y_train, cv=3,\n",
        "                         scoring=('r2', 'neg_mean_absolute_error'),\n",
        "                         return_train_score=True)"
      ],
      "metadata": {
        "id": "cbdILJ4wrCo2"
      },
      "execution_count": 47,
      "outputs": []
    },
    {
      "cell_type": "code",
      "source": [
        "X11=[\"Fold 1\",\"Fold 2\",\"Fold 3\"]\n",
        "import matplotlib.pyplot as plt\n",
        "fig = plt.figure()\n",
        "ax = fig.add_axes([0,0,1,1])\n",
        "ax.bar(X11,list(scores1['test_neg_mean_absolute_error']),color='grey')\n",
        "plt.title(\"SVM ALGORITHM _Folds and MAE\")\n",
        "plt.xlabel(\"Number of Folds \")\n",
        "plt.ylabel(\"MAE \")\n",
        "\n",
        "plt.grid()\n",
        "plt.show()"
      ],
      "metadata": {
        "colab": {
          "base_uri": "https://localhost:8080/",
          "height": 366
        },
        "id": "HEJpHH1UrE8k",
        "outputId": "3784648f-44b2-4d1a-98a9-44390d2f796c"
      },
      "execution_count": 48,
      "outputs": [
        {
          "output_type": "display_data",
          "data": {
            "text/plain": [
              "<Figure size 432x288 with 1 Axes>"
            ],
            "image/png": "[encoded data removed]"
          },
          "metadata": {
            "needs_background": "light"
          }
        }
      ]
    },
    {
      "cell_type": "code",
      "source": [
        "X11=[\"Fold 1\",\"Fold 2\",\"Fold 3\"]\n",
        "import matplotlib.pyplot as plt\n",
        "fig = plt.figure()\n",
        "ax = fig.add_axes([0,0,1,1])\n",
        "ax.bar(X11,list(scores1['test_r2']),color='purple')\n",
        "plt.title(\"SVM ALGORITHM _ Folds and r2\")\n",
        "plt.xlabel(\"Number of Folds \")\n",
        "plt.ylabel(\"R2 score \")\n",
        "\n",
        "plt.grid()\n",
        "plt.show()"
      ],
      "metadata": {
        "colab": {
          "base_uri": "https://localhost:8080/",
          "height": 366
        },
        "id": "FUK9WXwhrJKd",
        "outputId": "5697495a-7b03-4a1c-e454-4f266bc710e5"
      },
      "execution_count": 49,
      "outputs": [
        {
          "output_type": "display_data",
          "data": {
            "text/plain": [
              "<Figure size 432x288 with 1 Axes>"
            ],
            "image/png": "[encoded data removed]"
          },
          "metadata": {
            "needs_background": "light"
          }
        }
      ]
    },
    {
      "cell_type": "code",
      "source": [
        "from sklearn.metrics import r2_score\n",
        "r2_score(y_test,y_pred)"
      ],
      "metadata": {
        "colab": {
          "base_uri": "https://localhost:8080/"
        },
        "id": "_lWHhmPqrMis",
        "outputId": "63396ad4-47de-4724-b366-7c11a3190636"
      },
      "execution_count": 50,
      "outputs": [
        {
          "output_type": "execute_result",
          "data": {
            "text/plain": [
              "0.9796779893972118"
            ]
          },
          "metadata": {},
          "execution_count": 50
        }
      ]
    },
    {
      "cell_type": "code",
      "source": [
        "from sklearn.metrics import mean_absolute_error\n",
        "mean_absolute_error(y_test, y_pred)"
      ],
      "metadata": {
        "colab": {
          "base_uri": "https://localhost:8080/"
        },
        "id": "iYFIrW3drOYf",
        "outputId": "8315f7b5-01b0-4847-ebbe-7d4879b8eb96"
      },
      "execution_count": 51,
      "outputs": [
        {
          "output_type": "execute_result",
          "data": {
            "text/plain": [
              "0.021739130434782608"
            ]
          },
          "metadata": {},
          "execution_count": 51
        }
      ]
    },
    {
      "cell_type": "markdown",
      "source": [
        "# **Random Forest**"
      ],
      "metadata": {
        "id": "U9fX1HuWrQPn"
      }
    },
    {
      "cell_type": "code",
      "source": [
        "from sklearn.ensemble import RandomForestClassifier\n",
        "model = RandomForestClassifier()\n",
        "# fit the model on the whole dataset\n",
        "model.fit(X_train,y_train)\n",
        "y_pred=model.predict(X_test)\n",
        "print(metrics.accuracy_score(y_test,y_pred))"
      ],
      "metadata": {
        "colab": {
          "base_uri": "https://localhost:8080/"
        },
        "id": "TlJ02gm1rV9d",
        "outputId": "5b42bb87-437b-4b04-e2c0-ffb177452f46"
      },
      "execution_count": 52,
      "outputs": [
        {
          "output_type": "stream",
          "name": "stdout",
          "text": [
            "1.0\n"
          ]
        }
      ]
    },
    {
      "cell_type": "code",
      "source": [
        "from sklearn.metrics import classification_report\n",
        "print(classification_report(y_test, y_pred))"
      ],
      "metadata": {
        "colab": {
          "base_uri": "https://localhost:8080/"
        },
        "id": "af6kYIvvraEe",
        "outputId": "cd9f7096-9173-4e90-c676-a3eb47926cfd"
      },
      "execution_count": 53,
      "outputs": [
        {
          "output_type": "stream",
          "name": "stdout",
          "text": [
            "              precision    recall  f1-score   support\n",
            "\n",
            "           0       1.00      1.00      1.00        37\n",
            "           1       1.00      1.00      1.00        54\n",
            "           2       1.00      1.00      1.00        23\n",
            "           3       1.00      1.00      1.00        24\n",
            "\n",
            "    accuracy                           1.00       138\n",
            "   macro avg       1.00      1.00      1.00       138\n",
            "weighted avg       1.00      1.00      1.00       138\n",
            "\n"
          ]
        }
      ]
    },
    {
      "cell_type": "code",
      "source": [
        "fig, ax = plt.subplots(figsize=(10, 10))\n",
        "plot_confusion_matrix(model,X_test, y_pred,ax=ax) "
      ],
      "metadata": {
        "colab": {
          "base_uri": "https://localhost:8080/",
          "height": 652
        },
        "id": "0yMdJZ9crcd2",
        "outputId": "bf9d6186-e07a-4f28-8c73-3a553ff83ca3"
      },
      "execution_count": 55,
      "outputs": [
        {
          "output_type": "stream",
          "name": "stderr",
          "text": [
            "/usr/local/lib/python3.7/dist-packages/sklearn/utils/deprecation.py:87: FutureWarning: Function plot_confusion_matrix is deprecated; Function `plot_confusion_matrix` is deprecated in 1.0 and will be removed in 1.2. Use one of the class methods: ConfusionMatrixDisplay.from_predictions or ConfusionMatrixDisplay.from_estimator.\n",
            "  warnings.warn(msg, category=FutureWarning)\n"
          ]
        },
        {
          "output_type": "execute_result",
          "data": {
            "text/plain": [
              "<sklearn.metrics._plot.confusion_matrix.ConfusionMatrixDisplay at 0x7f9e75b6f550>"
            ]
          },
          "metadata": {},
          "execution_count": 55
        },
        {
          "output_type": "display_data",
          "data": {
            "text/plain": [
              "<Figure size 720x720 with 2 Axes>"
            ],
            "image/png": "[encoded data removed]"
          },
          "metadata": {
            "needs_background": "light"
          }
        }
      ]
    },
    {
      "cell_type": "code",
      "source": [
        "model = RandomForestClassifier()\n",
        "from sklearn.model_selection import cross_validate\n",
        "cv_results2 = cross_validate(model,X_train, y_train, cv=5)"
      ],
      "metadata": {
        "id": "E5nuw4e-rjz_"
      },
      "execution_count": 56,
      "outputs": []
    },
    {
      "cell_type": "code",
      "source": [
        "cv_results2['test_score']"
      ],
      "metadata": {
        "colab": {
          "base_uri": "https://localhost:8080/"
        },
        "id": "O54QOoebrmvq",
        "outputId": "bc1730ed-6b20-43b6-ea20-8f6d880993ef"
      },
      "execution_count": 57,
      "outputs": [
        {
          "output_type": "execute_result",
          "data": {
            "text/plain": [
              "array([0.99099099, 1.        , 1.        , 1.        , 0.99090909])"
            ]
          },
          "metadata": {},
          "execution_count": 57
        }
      ]
    },
    {
      "cell_type": "code",
      "source": [
        "X12=[\"Fold 1\",\"Fold 2\",\"Fold 3\",'Fold 4','Fold 5']\n",
        "import matplotlib.pyplot as plt\n",
        "fig = plt.figure()\n",
        "ax = fig.add_axes([0,0,1,1])\n",
        "ax.bar(X12,list(cv_results2['test_score']),color='blue')\n",
        "plt.title(\"Randomforest ALGORITHM_ Folds and test score\")\n",
        "plt.xlabel(\"Number of Folds \")\n",
        "plt.ylabel(\"test score \")\n",
        "\n",
        "plt.grid()\n",
        "plt.show()"
      ],
      "metadata": {
        "colab": {
          "base_uri": "https://localhost:8080/",
          "height": 366
        },
        "id": "psfaUXAFro0u",
        "outputId": "7f6182cc-f0fd-4d5d-b3ef-8c402163f32f"
      },
      "execution_count": 58,
      "outputs": [
        {
          "output_type": "display_data",
          "data": {
            "text/plain": [
              "<Figure size 432x288 with 1 Axes>"
            ],
            "image/png": "[encoded data removed]"
          },
          "metadata": {
            "needs_background": "light"
          }
        }
      ]
    },
    {
      "cell_type": "code",
      "source": [
        "scores2 = cross_validate(model,X_train, y_train, cv=10,\n",
        "                         scoring=('r2', 'neg_mean_absolute_error'),\n",
        "                         return_train_score=True)"
      ],
      "metadata": {
        "id": "aqHsWgcLrwfH"
      },
      "execution_count": 59,
      "outputs": []
    },
    {
      "cell_type": "code",
      "source": [
        "X12=[\"Fold 1\",\"Fold 2\",\"Fold 3\",'Fold 4','Fold 5','Fold 6','Fold 7','Fold 8','Fold 9','Fold 10']\n",
        "import matplotlib.pyplot as plt\n",
        "fig = plt.figure()\n",
        "ax = fig.add_axes([0,0,1,1])\n",
        "ax.bar(X12,list(scores2['test_r2']),color='purple')\n",
        "plt.title(\"RandomForest ALGORITHM _ Folds and r2\")\n",
        "plt.xlabel(\"Number of Folds \")\n",
        "plt.ylabel(\"R2 score \")\n",
        "\n",
        "plt.grid()\n",
        "plt.show()"
      ],
      "metadata": {
        "colab": {
          "base_uri": "https://localhost:8080/",
          "height": 366
        },
        "id": "XZBI25e1rylN",
        "outputId": "69de7d47-be66-426d-beaa-51807754d908"
      },
      "execution_count": 60,
      "outputs": [
        {
          "output_type": "display_data",
          "data": {
            "text/plain": [
              "<Figure size 432x288 with 1 Axes>"
            ],
            "image/png": "[encoded data removed]"
          },
          "metadata": {
            "needs_background": "light"
          }
        }
      ]
    },
    {
      "cell_type": "code",
      "source": [
        "X12=[\"Fold 1\",\"Fold 2\",\"Fold 3\",'Fold 4','Fold 5','Fold 6','Fold 7','Fold 8','Fold 9','Fold 10']\n",
        "import matplotlib.pyplot as plt\n",
        "fig = plt.figure()\n",
        "ax = fig.add_axes([0,0,1,1])\n",
        "ax.bar(X12,list(scores2['test_neg_mean_absolute_error']),color='grey')\n",
        "plt.title(\"Randomforest ALGORITHM _Folds and MAE\")\n",
        "plt.xlabel(\"Number of Folds \")\n",
        "plt.ylabel(\"MAE \")\n",
        "\n",
        "plt.grid()\n",
        "plt.show()"
      ],
      "metadata": {
        "colab": {
          "base_uri": "https://localhost:8080/",
          "height": 366
        },
        "id": "a5Hht76Qr1md",
        "outputId": "3891c897-ce61-46bd-e071-7c489c76fbeb"
      },
      "execution_count": 61,
      "outputs": [
        {
          "output_type": "display_data",
          "data": {
            "text/plain": [
              "<Figure size 432x288 with 1 Axes>"
            ],
            "image/png": "[encoded data removed]"
          },
          "metadata": {
            "needs_background": "light"
          }
        }
      ]
    },
    {
      "cell_type": "code",
      "source": [
        "r2_score(y_test,y_pred)"
      ],
      "metadata": {
        "colab": {
          "base_uri": "https://localhost:8080/"
        },
        "id": "ScMPGADsr5bx",
        "outputId": "a42c34c8-16cc-426d-f65a-ee5f1d3060a4"
      },
      "execution_count": 62,
      "outputs": [
        {
          "output_type": "execute_result",
          "data": {
            "text/plain": [
              "1.0"
            ]
          },
          "metadata": {},
          "execution_count": 62
        }
      ]
    },
    {
      "cell_type": "code",
      "source": [
        "mean_absolute_error(y_test, y_pred)"
      ],
      "metadata": {
        "colab": {
          "base_uri": "https://localhost:8080/"
        },
        "id": "C9TjYakfr7Sw",
        "outputId": "d30b1b69-a4cb-4ecf-83b4-ff22cac2c5b4"
      },
      "execution_count": 63,
      "outputs": [
        {
          "output_type": "execute_result",
          "data": {
            "text/plain": [
              "0.0"
            ]
          },
          "metadata": {},
          "execution_count": 63
        }
      ]
    },
    {
      "cell_type": "markdown",
      "source": [
        "# **XGB classifier**"
      ],
      "metadata": {
        "id": "ZSor_grdr9c_"
      }
    },
    {
      "cell_type": "code",
      "source": [
        "from xgboost import XGBClassifier\n",
        "model = XGBClassifier()\n",
        "model.fit(X_train, y_train)\n",
        "y_pred = model.predict(X_test)\n",
        "print(metrics.accuracy_score(y_test,y_pred))"
      ],
      "metadata": {
        "colab": {
          "base_uri": "https://localhost:8080/"
        },
        "id": "H2fOK9rhr_lX",
        "outputId": "70bbf80e-7041-4dc9-c583-b08098947d36"
      },
      "execution_count": 66,
      "outputs": [
        {
          "output_type": "stream",
          "name": "stdout",
          "text": [
            "1.0\n"
          ]
        }
      ]
    },
    {
      "cell_type": "code",
      "source": [
        "from sklearn.metrics import classification_report\n",
        "print(classification_report(y_test, y_pred))"
      ],
      "metadata": {
        "colab": {
          "base_uri": "https://localhost:8080/"
        },
        "id": "dPR4DuR8sCbs",
        "outputId": "1a54b2ec-b67f-4bae-c3d5-d83802b0bf27"
      },
      "execution_count": 65,
      "outputs": [
        {
          "output_type": "stream",
          "name": "stdout",
          "text": [
            "              precision    recall  f1-score   support\n",
            "\n",
            "           0       1.00      1.00      1.00        37\n",
            "           1       1.00      1.00      1.00        54\n",
            "           2       1.00      1.00      1.00        23\n",
            "           3       1.00      1.00      1.00        24\n",
            "\n",
            "    accuracy                           1.00       138\n",
            "   macro avg       1.00      1.00      1.00       138\n",
            "weighted avg       1.00      1.00      1.00       138\n",
            "\n"
          ]
        }
      ]
    },
    {
      "cell_type": "code",
      "source": [
        "fig, ax = plt.subplots(figsize=(10, 10))\n",
        "plot_confusion_matrix(model,X_test, y_pred,ax=ax) "
      ],
      "metadata": {
        "colab": {
          "base_uri": "https://localhost:8080/",
          "height": 652
        },
        "id": "IxSb6B18sJ_O",
        "outputId": "c055f787-24c3-4d6c-bc54-f74b1935ecc8"
      },
      "execution_count": 67,
      "outputs": [
        {
          "output_type": "stream",
          "name": "stderr",
          "text": [
            "/usr/local/lib/python3.7/dist-packages/sklearn/utils/deprecation.py:87: FutureWarning: Function plot_confusion_matrix is deprecated; Function `plot_confusion_matrix` is deprecated in 1.0 and will be removed in 1.2. Use one of the class methods: ConfusionMatrixDisplay.from_predictions or ConfusionMatrixDisplay.from_estimator.\n",
            "  warnings.warn(msg, category=FutureWarning)\n"
          ]
        },
        {
          "output_type": "execute_result",
          "data": {
            "text/plain": [
              "<sklearn.metrics._plot.confusion_matrix.ConfusionMatrixDisplay at 0x7f9e75b2ce50>"
            ]
          },
          "metadata": {},
          "execution_count": 67
        },
        {
          "output_type": "display_data",
          "data": {
            "text/plain": [
              "<Figure size 720x720 with 2 Axes>"
            ],
            "image/png": "[encoded data removed]"
          },
          "metadata": {
            "needs_background": "light"
          }
        }
      ]
    },
    {
      "cell_type": "code",
      "source": [
        "from sklearn import metrics\n",
        "print(metrics.accuracy_score(y_test,y_pred))"
      ],
      "metadata": {
        "colab": {
          "base_uri": "https://localhost:8080/"
        },
        "id": "DpeHVqqusOLt",
        "outputId": "37f47cbe-224e-48f9-a27a-6f78e5399cb2"
      },
      "execution_count": 68,
      "outputs": [
        {
          "output_type": "stream",
          "name": "stdout",
          "text": [
            "1.0\n"
          ]
        }
      ]
    },
    {
      "cell_type": "code",
      "source": [
        "df"
      ],
      "metadata": {
        "colab": {
          "base_uri": "https://localhost:8080/",
          "height": 424
        },
        "id": "O58jsGitws-k",
        "outputId": "a9eab992-a4ae-4039-8ca0-448f1498c4af"
      },
      "execution_count": 117,
      "outputs": [
        {
          "output_type": "execute_result",
          "data": {
            "text/plain": [
              "        Words  wikidata_response  Preprocessed text  Total words  sentiment  \\\n",
              "349079    578                236                184            2          6   \n",
              "290457    516                 62                211            1          6   \n",
              "271455    499                372                353            1          6   \n",
              "97319     317                436                417            5          6   \n",
              "282200    506                464                453           17          8   \n",
              "...       ...                ...                ...          ...        ...   \n",
              "139483    364                526                522           10          6   \n",
              "6799      205                267                223            3          6   \n",
              "203002    101                278                240            9         10   \n",
              "294642    523                486                480            3          9   \n",
              "405722    641                162                 94            1          6   \n",
              "\n",
              "        Zone  \n",
              "349079     3  \n",
              "290457     2  \n",
              "271455     2  \n",
              "97319      1  \n",
              "282200     2  \n",
              "...      ...  \n",
              "139483     1  \n",
              "6799       1  \n",
              "203002     0  \n",
              "294642     2  \n",
              "405722     3  \n",
              "\n",
              "[689 rows x 6 columns]"
            ],
            "text/html": [
              "\n",
              "  <div id=\"df-376fbf77-b0ba-4620-a8ff-ea011c0b8c62\">\n",
              "    <div class=\"colab-df-container\">\n",
              "      <div>\n",
              "<style scoped>\n",
              "    .dataframe tbody tr th:only-of-type {\n",
              "        vertical-align: middle;\n",
              "    }\n",
              "\n",
              "    .dataframe tbody tr th {\n",
              "        vertical-align: top;\n",
              "    }\n",
              "\n",
              "    .dataframe thead th {\n",
              "        text-align: right;\n",
              "    }\n",
              "</style>\n",
              "<table border=\"1\" class=\"dataframe\">\n",
              "  <thead>\n",
              "    <tr style=\"text-align: right;\">\n",
              "      <th></th>\n",
              "      <th>Words</th>\n",
              "      <th>wikidata_response</th>\n",
              "      <th>Preprocessed text</th>\n",
              "      <th>Total words</th>\n",
              "      <th>sentiment</th>\n",
              "      <th>Zone</th>\n",
              "    </tr>\n",
              "  </thead>\n",
              "  <tbody>\n",
              "    <tr>\n",
              "      <th>349079</th>\n",
              "      <td>578</td>\n",
              "      <td>236</td>\n",
              "      <td>184</td>\n",
              "      <td>2</td>\n",
              "      <td>6</td>\n",
              "      <td>3</td>\n",
              "    </tr>\n",
              "    <tr>\n",
              "      <th>290457</th>\n",
              "      <td>516</td>\n",
              "      <td>62</td>\n",
              "      <td>211</td>\n",
              "      <td>1</td>\n",
              "      <td>6</td>\n",
              "      <td>2</td>\n",
              "    </tr>\n",
              "    <tr>\n",
              "      <th>271455</th>\n",
              "      <td>499</td>\n",
              "      <td>372</td>\n",
              "      <td>353</td>\n",
              "      <td>1</td>\n",
              "      <td>6</td>\n",
              "      <td>2</td>\n",
              "    </tr>\n",
              "    <tr>\n",
              "      <th>97319</th>\n",
              "      <td>317</td>\n",
              "      <td>436</td>\n",
              "      <td>417</td>\n",
              "      <td>5</td>\n",
              "      <td>6</td>\n",
              "      <td>1</td>\n",
              "    </tr>\n",
              "    <tr>\n",
              "      <th>282200</th>\n",
              "      <td>506</td>\n",
              "      <td>464</td>\n",
              "      <td>453</td>\n",
              "      <td>17</td>\n",
              "      <td>8</td>\n",
              "      <td>2</td>\n",
              "    </tr>\n",
              "    <tr>\n",
              "      <th>...</th>\n",
              "      <td>...</td>\n",
              "      <td>...</td>\n",
              "      <td>...</td>\n",
              "      <td>...</td>\n",
              "      <td>...</td>\n",
              "      <td>...</td>\n",
              "    </tr>\n",
              "    <tr>\n",
              "      <th>139483</th>\n",
              "      <td>364</td>\n",
              "      <td>526</td>\n",
              "      <td>522</td>\n",
              "      <td>10</td>\n",
              "      <td>6</td>\n",
              "      <td>1</td>\n",
              "    </tr>\n",
              "    <tr>\n",
              "      <th>6799</th>\n",
              "      <td>205</td>\n",
              "      <td>267</td>\n",
              "      <td>223</td>\n",
              "      <td>3</td>\n",
              "      <td>6</td>\n",
              "      <td>1</td>\n",
              "    </tr>\n",
              "    <tr>\n",
              "      <th>203002</th>\n",
              "      <td>101</td>\n",
              "      <td>278</td>\n",
              "      <td>240</td>\n",
              "      <td>9</td>\n",
              "      <td>10</td>\n",
              "      <td>0</td>\n",
              "    </tr>\n",
              "    <tr>\n",
              "      <th>294642</th>\n",
              "      <td>523</td>\n",
              "      <td>486</td>\n",
              "      <td>480</td>\n",
              "      <td>3</td>\n",
              "      <td>9</td>\n",
              "      <td>2</td>\n",
              "    </tr>\n",
              "    <tr>\n",
              "      <th>405722</th>\n",
              "      <td>641</td>\n",
              "      <td>162</td>\n",
              "      <td>94</td>\n",
              "      <td>1</td>\n",
              "      <td>6</td>\n",
              "      <td>3</td>\n",
              "    </tr>\n",
              "  </tbody>\n",
              "</table>\n",
              "<p>689 rows × 6 columns</p>\n",
              "</div>\n",
              "      <button class=\"colab-df-convert\" onclick=\"convertToInteractive('df-376fbf77-b0ba-4620-a8ff-ea011c0b8c62')\"\n",
              "              title=\"Convert this dataframe to an interactive table.\"\n",
              "              style=\"display:none;\">\n",
              "        \n",
              "  <svg xmlns=\"http://www.w3.org/2000/svg\" height=\"24px\"viewBox=\"0 0 24 24\"\n",
              "       width=\"24px\">\n",
              "    <path d=\"M0 0h24v24H0V0z\" fill=\"none\"/>\n",
              "    <path d=\"M18.56 5.44l.94 2.06.94-2.06 2.06-.94-2.06-.94-.94-2.06-.94 2.06-2.06.94zm-11 1L8.5 8.5l.94-2.06 2.06-.94-2.06-.94L8.5 2.5l-.94 2.06-2.06.94zm10 10l.94 2.06.94-2.06 2.06-.94-2.06-.94-.94-2.06-.94 2.06-2.06.94z\"/><path d=\"M17.41 7.96l-1.37-1.37c-.4-.4-.92-.59-1.43-.59-.52 0-1.04.2-1.43.59L10.3 9.45l-7.72 7.72c-.78.78-.78 2.05 0 2.83L4 21.41c.39.39.9.59 1.41.59.51 0 1.02-.2 1.41-.59l7.78-7.78 2.81-2.81c.8-.78.8-2.07 0-2.86zM5.41 20L4 18.59l7.72-7.72 1.47 1.35L5.41 20z\"/>\n",
              "  </svg>\n",
              "      </button>\n",
              "      \n",
              "  <style>\n",
              "    .colab-df-container {\n",
              "      display:flex;\n",
              "      flex-wrap:wrap;\n",
              "      gap: 12px;\n",
              "    }\n",
              "\n",
              "    .colab-df-convert {\n",
              "      background-color: #E8F0FE;\n",
              "      border: none;\n",
              "      border-radius: 50%;\n",
              "      cursor: pointer;\n",
              "      display: none;\n",
              "      fill: #1967D2;\n",
              "      height: 32px;\n",
              "      padding: 0 0 0 0;\n",
              "      width: 32px;\n",
              "    }\n",
              "\n",
              "    .colab-df-convert:hover {\n",
              "      background-color: #E2EBFA;\n",
              "      box-shadow: 0px 1px 2px rgba(60, 64, 67, 0.3), 0px 1px 3px 1px rgba(60, 64, 67, 0.15);\n",
              "      fill: #174EA6;\n",
              "    }\n",
              "\n",
              "    [theme=dark] .colab-df-convert {\n",
              "      background-color: #3B4455;\n",
              "      fill: #D2E3FC;\n",
              "    }\n",
              "\n",
              "    [theme=dark] .colab-df-convert:hover {\n",
              "      background-color: #434B5C;\n",
              "      box-shadow: 0px 1px 3px 1px rgba(0, 0, 0, 0.15);\n",
              "      filter: drop-shadow(0px 1px 2px rgba(0, 0, 0, 0.3));\n",
              "      fill: #FFFFFF;\n",
              "    }\n",
              "  </style>\n",
              "\n",
              "      <script>\n",
              "        const buttonEl =\n",
              "          document.querySelector('#df-376fbf77-b0ba-4620-a8ff-ea011c0b8c62 button.colab-df-convert');\n",
              "        buttonEl.style.display =\n",
              "          google.colab.kernel.accessAllowed ? 'block' : 'none';\n",
              "\n",
              "        async function convertToInteractive(key) {\n",
              "          const element = document.querySelector('#df-376fbf77-b0ba-4620-a8ff-ea011c0b8c62');\n",
              "          const dataTable =\n",
              "            await google.colab.kernel.invokeFunction('convertToInteractive',\n",
              "                                                     [key], {});\n",
              "          if (!dataTable) return;\n",
              "\n",
              "          const docLinkHtml = 'Like what you see? Visit the ' +\n",
              "            '<a target=\"_blank\" href=https://colab.research.google.com/notebooks/data_table.ipynb>data table notebook</a>'\n",
              "            + ' to learn more about interactive tables.';\n",
              "          element.innerHTML = '';\n",
              "          dataTable['output_type'] = 'display_data';\n",
              "          await google.colab.output.renderOutput(dataTable, element);\n",
              "          const docLink = document.createElement('div');\n",
              "          docLink.innerHTML = docLinkHtml;\n",
              "          element.appendChild(docLink);\n",
              "        }\n",
              "      </script>\n",
              "    </div>\n",
              "  </div>\n",
              "  "
            ]
          },
          "metadata": {},
          "execution_count": 117
        }
      ]
    },
    {
      "cell_type": "code",
      "source": [
        "import seaborn as sns\n",
        "plt.figure(figsize=(10,10))\n",
        "sns.scatterplot(x='Total words', y='Zone', data=df,\n",
        "               hue='Words')"
      ],
      "metadata": {
        "colab": {
          "base_uri": "https://localhost:8080/",
          "height": 623
        },
        "id": "0lgs9qlDwOvm",
        "outputId": "ece613ad-e5c7-4dab-de45-ffbf04464ca9"
      },
      "execution_count": 118,
      "outputs": [
        {
          "output_type": "execute_result",
          "data": {
            "text/plain": [
              "<matplotlib.axes._subplots.AxesSubplot at 0x7f9e6523f510>"
            ]
          },
          "metadata": {},
          "execution_count": 118
        },
        {
          "output_type": "display_data",
          "data": {
            "text/plain": [
              "<Figure size 720x720 with 1 Axes>"
            ],
            "image/png": "[encoded data removed]"
          },
          "metadata": {
            "needs_background": "light"
          }
        }
      ]
    },
    {
      "cell_type": "markdown",
      "source": [
        "# **Correlation Matrix**"
      ],
      "metadata": {
        "id": "-1oi13_CzIX1"
      }
    },
    {
      "cell_type": "code",
      "source": [
        "plt.figure(figsize=(10,10))\n",
        "sns.heatmap(df.corr(), annot=True)"
      ],
      "metadata": {
        "colab": {
          "base_uri": "https://localhost:8080/",
          "height": 695
        },
        "id": "iNxt9JUYw6lB",
        "outputId": "7726f9fd-91db-46e6-b094-1421c58ed871"
      },
      "execution_count": 119,
      "outputs": [
        {
          "output_type": "execute_result",
          "data": {
            "text/plain": [
              "<matplotlib.axes._subplots.AxesSubplot at 0x7f9e65175d90>"
            ]
          },
          "metadata": {},
          "execution_count": 119
        },
        {
          "output_type": "display_data",
          "data": {
            "text/plain": [
              "<Figure size 720x720 with 2 Axes>"
            ],
            "image/png": "[encoded data removed]"
          },
          "metadata": {
            "needs_background": "light"
          }
        }
      ]
    },
    {
      "cell_type": "markdown",
      "source": [
        "**Bar Plot**"
      ],
      "metadata": {
        "id": "U0-Sd9PXzQho"
      }
    },
    {
      "cell_type": "code",
      "source": [
        "df.head(50).plot.bar(stacked=True,figsize=(15,20),subplots=True)"
      ],
      "metadata": {
        "colab": {
          "base_uri": "https://localhost:8080/",
          "height": 1000
        },
        "id": "JXbnGU4fw_Kv",
        "outputId": "4d73588d-46ea-43a8-b5d9-052268e8fc6d"
      },
      "execution_count": 121,
      "outputs": [
        {
          "output_type": "execute_result",
          "data": {
            "text/plain": [
              "array([<matplotlib.axes._subplots.AxesSubplot object at 0x7f9e5d59bcd0>,\n",
              "       <matplotlib.axes._subplots.AxesSubplot object at 0x7f9e6277fed0>,\n",
              "       <matplotlib.axes._subplots.AxesSubplot object at 0x7f9e5ce4de90>,\n",
              "       <matplotlib.axes._subplots.AxesSubplot object at 0x7f9e5ccc4a90>,\n",
              "       <matplotlib.axes._subplots.AxesSubplot object at 0x7f9e5c686e10>,\n",
              "       <matplotlib.axes._subplots.AxesSubplot object at 0x7f9e5d63ab10>],\n",
              "      dtype=object)"
            ]
          },
          "metadata": {},
          "execution_count": 121
        },
        {
          "output_type": "display_data",
          "data": {
            "text/plain": [
              "<Figure size 1080x1440 with 6 Axes>"
            ],
            "image/png": "[encoded data removed]"
          },
          "metadata": {
            "needs_background": "light"
          }
        }
      ]
    },
    {
      "cell_type": "markdown",
      "source": [
        "**Box Plot**"
      ],
      "metadata": {
        "id": "R27vmCJizMvu"
      }
    },
    {
      "cell_type": "code",
      "source": [
        "plt.figure(figsize=(12,10))\n",
        "sns.boxplot(x='sentiment',y=\"Zone\",data=df.head(500),showfliers=False)"
      ],
      "metadata": {
        "colab": {
          "base_uri": "https://localhost:8080/",
          "height": 623
        },
        "id": "zR_6RVEkxWPC",
        "outputId": "9cfd1099-b2d0-48b6-886d-5aad6276a062"
      },
      "execution_count": 124,
      "outputs": [
        {
          "output_type": "execute_result",
          "data": {
            "text/plain": [
              "<matplotlib.axes._subplots.AxesSubplot at 0x7f9e5c50d490>"
            ]
          },
          "metadata": {},
          "execution_count": 124
        },
        {
          "output_type": "display_data",
          "data": {
            "text/plain": [
              "<Figure size 864x720 with 1 Axes>"
            ],
            "image/png": "[encoded data removed]"
          },
          "metadata": {
            "needs_background": "light"
          }
        }
      ]
    },
    {
      "cell_type": "code",
      "source": [
        "pandas_df = df\n",
        "\n",
        "plt.figure(figsize=(10,5))\n",
        "plt.title('Distribution of Words across Zones')\n",
        "sns.distplot(pandas_df['Zone']);"
      ],
      "metadata": {
        "colab": {
          "base_uri": "https://localhost:8080/",
          "height": 405
        },
        "id": "oy3cAAKXxyzb",
        "outputId": "eaa309d4-3a6e-4110-dc6d-0a5f009ecd57"
      },
      "execution_count": 129,
      "outputs": [
        {
          "output_type": "stream",
          "name": "stderr",
          "text": [
            "/usr/local/lib/python3.7/dist-packages/seaborn/distributions.py:2619: FutureWarning: `distplot` is a deprecated function and will be removed in a future version. Please adapt your code to use either `displot` (a figure-level function with similar flexibility) or `histplot` (an axes-level function for histograms).\n",
            "  warnings.warn(msg, FutureWarning)\n"
          ]
        },
        {
          "output_type": "display_data",
          "data": {
            "text/plain": [
              "<Figure size 720x360 with 1 Axes>"
            ],
            "image/png": "[encoded data removed]"
          },
          "metadata": {
            "needs_background": "light"
          }
        }
      ]
    }
  ]
}