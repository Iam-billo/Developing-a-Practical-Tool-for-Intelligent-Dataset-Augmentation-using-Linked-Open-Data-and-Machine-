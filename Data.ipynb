{
 "cells": [
  {
   "cell_type": "code",
   "execution_count": 1,
   "id": "70cd2634",
   "metadata": {},
   "outputs": [],
   "source": [
    "import pandas as pd"
   ]
  },
  {
   "cell_type": "code",
   "execution_count": 2,
   "id": "67308018",
   "metadata": {},
   "outputs": [],
   "source": [
    "dt = pd.read_csv('query.csv')"
   ]
  },
  {
   "cell_type": "code",
   "execution_count": 3,
   "id": "50008201",
   "metadata": {},
   "outputs": [
    {
     "data": {
      "text/html": [
       "<div>\n",
       "<style scoped>\n",
       "    .dataframe tbody tr th:only-of-type {\n",
       "        vertical-align: middle;\n",
       "    }\n",
       "\n",
       "    .dataframe tbody tr th {\n",
       "        vertical-align: top;\n",
       "    }\n",
       "\n",
       "    .dataframe thead th {\n",
       "        text-align: right;\n",
       "    }\n",
       "</style>\n",
       "<table border=\"1\" class=\"dataframe\">\n",
       "  <thead>\n",
       "    <tr style=\"text-align: right;\">\n",
       "      <th></th>\n",
       "      <th>person</th>\n",
       "      <th>personLabel</th>\n",
       "      <th>died</th>\n",
       "      <th>sitelinks</th>\n",
       "    </tr>\n",
       "  </thead>\n",
       "  <tbody>\n",
       "    <tr>\n",
       "      <th>0</th>\n",
       "      <td>http://www.wikidata.org/entity/Q17714</td>\n",
       "      <td>Stephen Hawking</td>\n",
       "      <td>2018-03-14T00:00:00Z</td>\n",
       "      <td>191</td>\n",
       "    </tr>\n",
       "    <tr>\n",
       "      <th>1</th>\n",
       "      <td>http://www.wikidata.org/entity/Q23505</td>\n",
       "      <td>George H. W. Bush</td>\n",
       "      <td>2018-11-30T00:00:00Z</td>\n",
       "      <td>187</td>\n",
       "    </tr>\n",
       "    <tr>\n",
       "      <th>2</th>\n",
       "      <td>http://www.wikidata.org/entity/Q1254</td>\n",
       "      <td>Kofi Annan</td>\n",
       "      <td>2018-08-18T00:00:00Z</td>\n",
       "      <td>165</td>\n",
       "    </tr>\n",
       "    <tr>\n",
       "      <th>3</th>\n",
       "      <td>http://www.wikidata.org/entity/Q10390</td>\n",
       "      <td>John McCain</td>\n",
       "      <td>2018-08-25T00:00:00Z</td>\n",
       "      <td>127</td>\n",
       "    </tr>\n",
       "    <tr>\n",
       "      <th>4</th>\n",
       "      <td>http://www.wikidata.org/entity/Q125121</td>\n",
       "      <td>Aretha Franklin</td>\n",
       "      <td>2018-08-16T00:00:00Z</td>\n",
       "      <td>108</td>\n",
       "    </tr>\n",
       "  </tbody>\n",
       "</table>\n",
       "</div>"
      ],
      "text/plain": [
       "                                   person        personLabel  \\\n",
       "0   http://www.wikidata.org/entity/Q17714    Stephen Hawking   \n",
       "1   http://www.wikidata.org/entity/Q23505  George H. W. Bush   \n",
       "2    http://www.wikidata.org/entity/Q1254         Kofi Annan   \n",
       "3   http://www.wikidata.org/entity/Q10390        John McCain   \n",
       "4  http://www.wikidata.org/entity/Q125121    Aretha Franklin   \n",
       "\n",
       "                   died  sitelinks  \n",
       "0  2018-03-14T00:00:00Z        191  \n",
       "1  2018-11-30T00:00:00Z        187  \n",
       "2  2018-08-18T00:00:00Z        165  \n",
       "3  2018-08-25T00:00:00Z        127  \n",
       "4  2018-08-16T00:00:00Z        108  "
      ]
     },
     "execution_count": 3,
     "metadata": {},
     "output_type": "execute_result"
    }
   ],
   "source": [
    "dt.head()"
   ]
  },
  {
   "cell_type": "code",
   "execution_count": 4,
   "id": "420ae05e",
   "metadata": {},
   "outputs": [],
   "source": [
    "dt1 = pd.read_csv('query (1).csv')\n",
    "dt2 = pd.read_csv('query (2).csv')\n",
    "dt3 = pd.read_csv('query (3).csv')"
   ]
  },
  {
   "cell_type": "code",
   "execution_count": 5,
   "id": "7d3f583d",
   "metadata": {},
   "outputs": [
    {
     "data": {
      "text/html": [
       "<div>\n",
       "<style scoped>\n",
       "    .dataframe tbody tr th:only-of-type {\n",
       "        vertical-align: middle;\n",
       "    }\n",
       "\n",
       "    .dataframe tbody tr th {\n",
       "        vertical-align: top;\n",
       "    }\n",
       "\n",
       "    .dataframe thead th {\n",
       "        text-align: right;\n",
       "    }\n",
       "</style>\n",
       "<table border=\"1\" class=\"dataframe\">\n",
       "  <thead>\n",
       "    <tr style=\"text-align: right;\">\n",
       "      <th></th>\n",
       "      <th>item</th>\n",
       "      <th>itemLabel</th>\n",
       "      <th>_coordinates</th>\n",
       "      <th>_image</th>\n",
       "    </tr>\n",
       "  </thead>\n",
       "  <tbody>\n",
       "    <tr>\n",
       "      <th>0</th>\n",
       "      <td>http://www.wikidata.org/entity/Q557</td>\n",
       "      <td>Patti Smith</td>\n",
       "      <td>Point(-98.5795 39.828175)</td>\n",
       "      <td>http://commons.wikimedia.org/wiki/Special:File...</td>\n",
       "    </tr>\n",
       "    <tr>\n",
       "      <th>1</th>\n",
       "      <td>http://www.wikidata.org/entity/Q1545</td>\n",
       "      <td>Cyndi Lauper</td>\n",
       "      <td>Point(-74.0 40.7)</td>\n",
       "      <td>http://commons.wikimedia.org/wiki/Special:File...</td>\n",
       "    </tr>\n",
       "    <tr>\n",
       "      <th>2</th>\n",
       "      <td>http://www.wikidata.org/entity/Q4030</td>\n",
       "      <td>Duke Ellington</td>\n",
       "      <td>Point(-77.036666666 38.895)</td>\n",
       "      <td>http://commons.wikimedia.org/wiki/Special:File...</td>\n",
       "    </tr>\n",
       "    <tr>\n",
       "      <th>3</th>\n",
       "      <td>http://www.wikidata.org/entity/Q4030</td>\n",
       "      <td>Duke Ellington</td>\n",
       "      <td>Point(-77.036666666 38.895)</td>\n",
       "      <td>http://commons.wikimedia.org/wiki/Special:File...</td>\n",
       "    </tr>\n",
       "    <tr>\n",
       "      <th>4</th>\n",
       "      <td>http://www.wikidata.org/entity/Q6527</td>\n",
       "      <td>Jean-Jacques Rousseau</td>\n",
       "      <td>Point(6.15 46.2)</td>\n",
       "      <td>http://commons.wikimedia.org/wiki/Special:File...</td>\n",
       "    </tr>\n",
       "  </tbody>\n",
       "</table>\n",
       "</div>"
      ],
      "text/plain": [
       "                                   item              itemLabel  \\\n",
       "0   http://www.wikidata.org/entity/Q557            Patti Smith   \n",
       "1  http://www.wikidata.org/entity/Q1545           Cyndi Lauper   \n",
       "2  http://www.wikidata.org/entity/Q4030         Duke Ellington   \n",
       "3  http://www.wikidata.org/entity/Q4030         Duke Ellington   \n",
       "4  http://www.wikidata.org/entity/Q6527  Jean-Jacques Rousseau   \n",
       "\n",
       "                  _coordinates  \\\n",
       "0    Point(-98.5795 39.828175)   \n",
       "1            Point(-74.0 40.7)   \n",
       "2  Point(-77.036666666 38.895)   \n",
       "3  Point(-77.036666666 38.895)   \n",
       "4             Point(6.15 46.2)   \n",
       "\n",
       "                                              _image  \n",
       "0  http://commons.wikimedia.org/wiki/Special:File...  \n",
       "1  http://commons.wikimedia.org/wiki/Special:File...  \n",
       "2  http://commons.wikimedia.org/wiki/Special:File...  \n",
       "3  http://commons.wikimedia.org/wiki/Special:File...  \n",
       "4  http://commons.wikimedia.org/wiki/Special:File...  "
      ]
     },
     "execution_count": 5,
     "metadata": {},
     "output_type": "execute_result"
    }
   ],
   "source": [
    "dt1.head()"
   ]
  },
  {
   "cell_type": "code",
   "execution_count": 6,
   "id": "82561689",
   "metadata": {},
   "outputs": [],
   "source": [
    "dt1 = dt1.drop(['_coordinates','_image'],axis=1)"
   ]
  },
  {
   "cell_type": "code",
   "execution_count": 7,
   "id": "762ba088",
   "metadata": {},
   "outputs": [
    {
     "data": {
      "text/html": [
       "<div>\n",
       "<style scoped>\n",
       "    .dataframe tbody tr th:only-of-type {\n",
       "        vertical-align: middle;\n",
       "    }\n",
       "\n",
       "    .dataframe tbody tr th {\n",
       "        vertical-align: top;\n",
       "    }\n",
       "\n",
       "    .dataframe thead th {\n",
       "        text-align: right;\n",
       "    }\n",
       "</style>\n",
       "<table border=\"1\" class=\"dataframe\">\n",
       "  <thead>\n",
       "    <tr style=\"text-align: right;\">\n",
       "      <th></th>\n",
       "      <th>item</th>\n",
       "      <th>itemLabel</th>\n",
       "    </tr>\n",
       "  </thead>\n",
       "  <tbody>\n",
       "    <tr>\n",
       "      <th>0</th>\n",
       "      <td>http://www.wikidata.org/entity/Q557</td>\n",
       "      <td>Patti Smith</td>\n",
       "    </tr>\n",
       "    <tr>\n",
       "      <th>1</th>\n",
       "      <td>http://www.wikidata.org/entity/Q1545</td>\n",
       "      <td>Cyndi Lauper</td>\n",
       "    </tr>\n",
       "    <tr>\n",
       "      <th>2</th>\n",
       "      <td>http://www.wikidata.org/entity/Q4030</td>\n",
       "      <td>Duke Ellington</td>\n",
       "    </tr>\n",
       "    <tr>\n",
       "      <th>3</th>\n",
       "      <td>http://www.wikidata.org/entity/Q4030</td>\n",
       "      <td>Duke Ellington</td>\n",
       "    </tr>\n",
       "    <tr>\n",
       "      <th>4</th>\n",
       "      <td>http://www.wikidata.org/entity/Q6527</td>\n",
       "      <td>Jean-Jacques Rousseau</td>\n",
       "    </tr>\n",
       "  </tbody>\n",
       "</table>\n",
       "</div>"
      ],
      "text/plain": [
       "                                   item              itemLabel\n",
       "0   http://www.wikidata.org/entity/Q557            Patti Smith\n",
       "1  http://www.wikidata.org/entity/Q1545           Cyndi Lauper\n",
       "2  http://www.wikidata.org/entity/Q4030         Duke Ellington\n",
       "3  http://www.wikidata.org/entity/Q4030         Duke Ellington\n",
       "4  http://www.wikidata.org/entity/Q6527  Jean-Jacques Rousseau"
      ]
     },
     "execution_count": 7,
     "metadata": {},
     "output_type": "execute_result"
    }
   ],
   "source": [
    "dt1.head()"
   ]
  },
  {
   "cell_type": "code",
   "execution_count": 8,
   "id": "93651177",
   "metadata": {},
   "outputs": [
    {
     "data": {
      "text/html": [
       "<div>\n",
       "<style scoped>\n",
       "    .dataframe tbody tr th:only-of-type {\n",
       "        vertical-align: middle;\n",
       "    }\n",
       "\n",
       "    .dataframe tbody tr th {\n",
       "        vertical-align: top;\n",
       "    }\n",
       "\n",
       "    .dataframe thead th {\n",
       "        text-align: right;\n",
       "    }\n",
       "</style>\n",
       "<table border=\"1\" class=\"dataframe\">\n",
       "  <thead>\n",
       "    <tr style=\"text-align: right;\">\n",
       "      <th></th>\n",
       "      <th>item</th>\n",
       "      <th>itemLabel</th>\n",
       "      <th>firstReleased</th>\n",
       "      <th>_image</th>\n",
       "    </tr>\n",
       "  </thead>\n",
       "  <tbody>\n",
       "    <tr>\n",
       "      <th>0</th>\n",
       "      <td>http://www.wikidata.org/entity/Q116187</td>\n",
       "      <td>Thieves and Robbers</td>\n",
       "      <td>1983-02-11T00:00:00Z</td>\n",
       "      <td>NaN</td>\n",
       "    </tr>\n",
       "    <tr>\n",
       "      <th>1</th>\n",
       "      <td>http://www.wikidata.org/entity/Q180638</td>\n",
       "      <td>Odds and Evens</td>\n",
       "      <td>1978-10-28T00:00:00Z</td>\n",
       "      <td>NaN</td>\n",
       "    </tr>\n",
       "    <tr>\n",
       "      <th>2</th>\n",
       "      <td>http://www.wikidata.org/entity/Q231967</td>\n",
       "      <td>A Friend Is a Treasure</td>\n",
       "      <td>1981-01-01T00:00:00Z</td>\n",
       "      <td>NaN</td>\n",
       "    </tr>\n",
       "    <tr>\n",
       "      <th>3</th>\n",
       "      <td>http://www.wikidata.org/entity/Q232044</td>\n",
       "      <td>All the Way, Boys</td>\n",
       "      <td>1972-12-22T00:00:00Z</td>\n",
       "      <td>NaN</td>\n",
       "    </tr>\n",
       "    <tr>\n",
       "      <th>4</th>\n",
       "      <td>http://www.wikidata.org/entity/Q232083</td>\n",
       "      <td>Two Missionaries</td>\n",
       "      <td>1974-12-21T00:00:00Z</td>\n",
       "      <td>NaN</td>\n",
       "    </tr>\n",
       "  </tbody>\n",
       "</table>\n",
       "</div>"
      ],
      "text/plain": [
       "                                     item               itemLabel  \\\n",
       "0  http://www.wikidata.org/entity/Q116187     Thieves and Robbers   \n",
       "1  http://www.wikidata.org/entity/Q180638          Odds and Evens   \n",
       "2  http://www.wikidata.org/entity/Q231967  A Friend Is a Treasure   \n",
       "3  http://www.wikidata.org/entity/Q232044       All the Way, Boys   \n",
       "4  http://www.wikidata.org/entity/Q232083        Two Missionaries   \n",
       "\n",
       "          firstReleased _image  \n",
       "0  1983-02-11T00:00:00Z    NaN  \n",
       "1  1978-10-28T00:00:00Z    NaN  \n",
       "2  1981-01-01T00:00:00Z    NaN  \n",
       "3  1972-12-22T00:00:00Z    NaN  \n",
       "4  1974-12-21T00:00:00Z    NaN  "
      ]
     },
     "execution_count": 8,
     "metadata": {},
     "output_type": "execute_result"
    }
   ],
   "source": [
    "dt2.head()"
   ]
  },
  {
   "cell_type": "code",
   "execution_count": 9,
   "id": "43c963aa",
   "metadata": {},
   "outputs": [
    {
     "data": {
      "text/html": [
       "<div>\n",
       "<style scoped>\n",
       "    .dataframe tbody tr th:only-of-type {\n",
       "        vertical-align: middle;\n",
       "    }\n",
       "\n",
       "    .dataframe tbody tr th {\n",
       "        vertical-align: top;\n",
       "    }\n",
       "\n",
       "    .dataframe thead th {\n",
       "        text-align: right;\n",
       "    }\n",
       "</style>\n",
       "<table border=\"1\" class=\"dataframe\">\n",
       "  <thead>\n",
       "    <tr style=\"text-align: right;\">\n",
       "      <th></th>\n",
       "      <th>itemLabel</th>\n",
       "      <th>firstReleased</th>\n",
       "    </tr>\n",
       "  </thead>\n",
       "  <tbody>\n",
       "    <tr>\n",
       "      <th>0</th>\n",
       "      <td>Thieves and Robbers</td>\n",
       "      <td>1983-02-11T00:00:00Z</td>\n",
       "    </tr>\n",
       "    <tr>\n",
       "      <th>1</th>\n",
       "      <td>Odds and Evens</td>\n",
       "      <td>1978-10-28T00:00:00Z</td>\n",
       "    </tr>\n",
       "    <tr>\n",
       "      <th>2</th>\n",
       "      <td>A Friend Is a Treasure</td>\n",
       "      <td>1981-01-01T00:00:00Z</td>\n",
       "    </tr>\n",
       "    <tr>\n",
       "      <th>3</th>\n",
       "      <td>All the Way, Boys</td>\n",
       "      <td>1972-12-22T00:00:00Z</td>\n",
       "    </tr>\n",
       "    <tr>\n",
       "      <th>4</th>\n",
       "      <td>Two Missionaries</td>\n",
       "      <td>1974-12-21T00:00:00Z</td>\n",
       "    </tr>\n",
       "  </tbody>\n",
       "</table>\n",
       "</div>"
      ],
      "text/plain": [
       "                itemLabel         firstReleased\n",
       "0     Thieves and Robbers  1983-02-11T00:00:00Z\n",
       "1          Odds and Evens  1978-10-28T00:00:00Z\n",
       "2  A Friend Is a Treasure  1981-01-01T00:00:00Z\n",
       "3       All the Way, Boys  1972-12-22T00:00:00Z\n",
       "4        Two Missionaries  1974-12-21T00:00:00Z"
      ]
     },
     "execution_count": 9,
     "metadata": {},
     "output_type": "execute_result"
    }
   ],
   "source": [
    "dt2 = dt2.drop(['_image','item'],axis=1)\n",
    "dt2.head()"
   ]
  },
  {
   "cell_type": "code",
   "execution_count": 10,
   "id": "c6fae653",
   "metadata": {},
   "outputs": [
    {
     "data": {
      "text/html": [
       "<div>\n",
       "<style scoped>\n",
       "    .dataframe tbody tr th:only-of-type {\n",
       "        vertical-align: middle;\n",
       "    }\n",
       "\n",
       "    .dataframe tbody tr th {\n",
       "        vertical-align: top;\n",
       "    }\n",
       "\n",
       "    .dataframe thead th {\n",
       "        text-align: right;\n",
       "    }\n",
       "</style>\n",
       "<table border=\"1\" class=\"dataframe\">\n",
       "  <thead>\n",
       "    <tr style=\"text-align: right;\">\n",
       "      <th></th>\n",
       "      <th>item</th>\n",
       "      <th>itemLabel</th>\n",
       "    </tr>\n",
       "  </thead>\n",
       "  <tbody>\n",
       "    <tr>\n",
       "      <th>0</th>\n",
       "      <td>http://www.wikidata.org/entity/Q17040489</td>\n",
       "      <td>O Ornitólogo</td>\n",
       "    </tr>\n",
       "    <tr>\n",
       "      <th>1</th>\n",
       "      <td>http://www.wikidata.org/entity/Q17416710</td>\n",
       "      <td>Tulip Fever</td>\n",
       "    </tr>\n",
       "    <tr>\n",
       "      <th>2</th>\n",
       "      <td>http://www.wikidata.org/entity/Q17619306</td>\n",
       "      <td>I Am Michael</td>\n",
       "    </tr>\n",
       "    <tr>\n",
       "      <th>3</th>\n",
       "      <td>http://www.wikidata.org/entity/Q18517234</td>\n",
       "      <td>Andiamo a quel paese</td>\n",
       "    </tr>\n",
       "    <tr>\n",
       "      <th>4</th>\n",
       "      <td>http://www.wikidata.org/entity/Q18639593</td>\n",
       "      <td>On the Milky Road</td>\n",
       "    </tr>\n",
       "  </tbody>\n",
       "</table>\n",
       "</div>"
      ],
      "text/plain": [
       "                                       item             itemLabel\n",
       "0  http://www.wikidata.org/entity/Q17040489          O Ornitólogo\n",
       "1  http://www.wikidata.org/entity/Q17416710           Tulip Fever\n",
       "2  http://www.wikidata.org/entity/Q17619306          I Am Michael\n",
       "3  http://www.wikidata.org/entity/Q18517234  Andiamo a quel paese\n",
       "4  http://www.wikidata.org/entity/Q18639593     On the Milky Road"
      ]
     },
     "execution_count": 10,
     "metadata": {},
     "output_type": "execute_result"
    }
   ],
   "source": [
    "dt3.head()"
   ]
  },
  {
   "cell_type": "code",
   "execution_count": 11,
   "id": "16a08905",
   "metadata": {},
   "outputs": [
    {
     "data": {
      "text/plain": [
       "pandas.core.frame.DataFrame"
      ]
     },
     "execution_count": 11,
     "metadata": {},
     "output_type": "execute_result"
    }
   ],
   "source": [
    "type(dt2)"
   ]
  },
  {
   "cell_type": "code",
   "execution_count": 12,
   "id": "d4bbf97e",
   "metadata": {},
   "outputs": [],
   "source": [
    "dt4 = pd.concat([dt,dt1,dt2])"
   ]
  },
  {
   "cell_type": "code",
   "execution_count": 13,
   "id": "636c6c7b",
   "metadata": {},
   "outputs": [
    {
     "data": {
      "text/html": [
       "<div>\n",
       "<style scoped>\n",
       "    .dataframe tbody tr th:only-of-type {\n",
       "        vertical-align: middle;\n",
       "    }\n",
       "\n",
       "    .dataframe tbody tr th {\n",
       "        vertical-align: top;\n",
       "    }\n",
       "\n",
       "    .dataframe thead th {\n",
       "        text-align: right;\n",
       "    }\n",
       "</style>\n",
       "<table border=\"1\" class=\"dataframe\">\n",
       "  <thead>\n",
       "    <tr style=\"text-align: right;\">\n",
       "      <th></th>\n",
       "      <th>person</th>\n",
       "      <th>personLabel</th>\n",
       "      <th>died</th>\n",
       "      <th>sitelinks</th>\n",
       "      <th>item</th>\n",
       "      <th>itemLabel</th>\n",
       "      <th>firstReleased</th>\n",
       "    </tr>\n",
       "  </thead>\n",
       "  <tbody>\n",
       "    <tr>\n",
       "      <th>0</th>\n",
       "      <td>http://www.wikidata.org/entity/Q17714</td>\n",
       "      <td>Stephen Hawking</td>\n",
       "      <td>2018-03-14T00:00:00Z</td>\n",
       "      <td>191.0</td>\n",
       "      <td>NaN</td>\n",
       "      <td>NaN</td>\n",
       "      <td>NaN</td>\n",
       "    </tr>\n",
       "    <tr>\n",
       "      <th>1</th>\n",
       "      <td>http://www.wikidata.org/entity/Q23505</td>\n",
       "      <td>George H. W. Bush</td>\n",
       "      <td>2018-11-30T00:00:00Z</td>\n",
       "      <td>187.0</td>\n",
       "      <td>NaN</td>\n",
       "      <td>NaN</td>\n",
       "      <td>NaN</td>\n",
       "    </tr>\n",
       "    <tr>\n",
       "      <th>2</th>\n",
       "      <td>http://www.wikidata.org/entity/Q1254</td>\n",
       "      <td>Kofi Annan</td>\n",
       "      <td>2018-08-18T00:00:00Z</td>\n",
       "      <td>165.0</td>\n",
       "      <td>NaN</td>\n",
       "      <td>NaN</td>\n",
       "      <td>NaN</td>\n",
       "    </tr>\n",
       "    <tr>\n",
       "      <th>3</th>\n",
       "      <td>http://www.wikidata.org/entity/Q10390</td>\n",
       "      <td>John McCain</td>\n",
       "      <td>2018-08-25T00:00:00Z</td>\n",
       "      <td>127.0</td>\n",
       "      <td>NaN</td>\n",
       "      <td>NaN</td>\n",
       "      <td>NaN</td>\n",
       "    </tr>\n",
       "    <tr>\n",
       "      <th>4</th>\n",
       "      <td>http://www.wikidata.org/entity/Q125121</td>\n",
       "      <td>Aretha Franklin</td>\n",
       "      <td>2018-08-16T00:00:00Z</td>\n",
       "      <td>108.0</td>\n",
       "      <td>NaN</td>\n",
       "      <td>NaN</td>\n",
       "      <td>NaN</td>\n",
       "    </tr>\n",
       "  </tbody>\n",
       "</table>\n",
       "</div>"
      ],
      "text/plain": [
       "                                   person        personLabel  \\\n",
       "0   http://www.wikidata.org/entity/Q17714    Stephen Hawking   \n",
       "1   http://www.wikidata.org/entity/Q23505  George H. W. Bush   \n",
       "2    http://www.wikidata.org/entity/Q1254         Kofi Annan   \n",
       "3   http://www.wikidata.org/entity/Q10390        John McCain   \n",
       "4  http://www.wikidata.org/entity/Q125121    Aretha Franklin   \n",
       "\n",
       "                   died  sitelinks item itemLabel firstReleased  \n",
       "0  2018-03-14T00:00:00Z      191.0  NaN       NaN           NaN  \n",
       "1  2018-11-30T00:00:00Z      187.0  NaN       NaN           NaN  \n",
       "2  2018-08-18T00:00:00Z      165.0  NaN       NaN           NaN  \n",
       "3  2018-08-25T00:00:00Z      127.0  NaN       NaN           NaN  \n",
       "4  2018-08-16T00:00:00Z      108.0  NaN       NaN           NaN  "
      ]
     },
     "execution_count": 13,
     "metadata": {},
     "output_type": "execute_result"
    }
   ],
   "source": [
    "dt4.head()"
   ]
  },
  {
   "cell_type": "code",
   "execution_count": 14,
   "id": "8844c124",
   "metadata": {},
   "outputs": [
    {
     "data": {
      "text/plain": [
       "(25710, 7)"
      ]
     },
     "execution_count": 14,
     "metadata": {},
     "output_type": "execute_result"
    }
   ],
   "source": [
    "dt4.shape"
   ]
  },
  {
   "cell_type": "code",
   "execution_count": 15,
   "id": "29f4befb",
   "metadata": {},
   "outputs": [
    {
     "data": {
      "text/html": [
       "<div>\n",
       "<style scoped>\n",
       "    .dataframe tbody tr th:only-of-type {\n",
       "        vertical-align: middle;\n",
       "    }\n",
       "\n",
       "    .dataframe tbody tr th {\n",
       "        vertical-align: top;\n",
       "    }\n",
       "\n",
       "    .dataframe thead th {\n",
       "        text-align: right;\n",
       "    }\n",
       "</style>\n",
       "<table border=\"1\" class=\"dataframe\">\n",
       "  <thead>\n",
       "    <tr style=\"text-align: right;\">\n",
       "      <th></th>\n",
       "      <th>sitelinks</th>\n",
       "    </tr>\n",
       "  </thead>\n",
       "  <tbody>\n",
       "    <tr>\n",
       "      <th>count</th>\n",
       "      <td>100.000000</td>\n",
       "    </tr>\n",
       "    <tr>\n",
       "      <th>mean</th>\n",
       "      <td>63.290000</td>\n",
       "    </tr>\n",
       "    <tr>\n",
       "      <th>std</th>\n",
       "      <td>27.489317</td>\n",
       "    </tr>\n",
       "    <tr>\n",
       "      <th>min</th>\n",
       "      <td>38.000000</td>\n",
       "    </tr>\n",
       "    <tr>\n",
       "      <th>25%</th>\n",
       "      <td>46.000000</td>\n",
       "    </tr>\n",
       "    <tr>\n",
       "      <th>50%</th>\n",
       "      <td>54.000000</td>\n",
       "    </tr>\n",
       "    <tr>\n",
       "      <th>75%</th>\n",
       "      <td>70.250000</td>\n",
       "    </tr>\n",
       "    <tr>\n",
       "      <th>max</th>\n",
       "      <td>191.000000</td>\n",
       "    </tr>\n",
       "  </tbody>\n",
       "</table>\n",
       "</div>"
      ],
      "text/plain": [
       "        sitelinks\n",
       "count  100.000000\n",
       "mean    63.290000\n",
       "std     27.489317\n",
       "min     38.000000\n",
       "25%     46.000000\n",
       "50%     54.000000\n",
       "75%     70.250000\n",
       "max    191.000000"
      ]
     },
     "execution_count": 15,
     "metadata": {},
     "output_type": "execute_result"
    }
   ],
   "source": [
    "dt4.describe()"
   ]
  },
  {
   "cell_type": "code",
   "execution_count": 16,
   "id": "4ff358a0",
   "metadata": {},
   "outputs": [
    {
     "name": "stdout",
     "output_type": "stream",
     "text": [
      "<class 'pandas.core.frame.DataFrame'>\n",
      "RangeIndex: 100 entries, 0 to 99\n",
      "Data columns (total 4 columns):\n",
      " #   Column       Non-Null Count  Dtype \n",
      "---  ------       --------------  ----- \n",
      " 0   person       100 non-null    object\n",
      " 1   personLabel  100 non-null    object\n",
      " 2   died         100 non-null    object\n",
      " 3   sitelinks    100 non-null    int64 \n",
      "dtypes: int64(1), object(3)\n",
      "memory usage: 3.2+ KB\n"
     ]
    }
   ],
   "source": [
    "dt.info()"
   ]
  },
  {
   "cell_type": "code",
   "execution_count": 17,
   "id": "65951561",
   "metadata": {},
   "outputs": [
    {
     "data": {
      "text/plain": [
       "Index(['person', 'personLabel', 'died', 'sitelinks', 'item', 'itemLabel',\n",
       "       'firstReleased'],\n",
       "      dtype='object')"
      ]
     },
     "execution_count": 17,
     "metadata": {},
     "output_type": "execute_result"
    }
   ],
   "source": [
    "dt4.columns"
   ]
  },
  {
   "cell_type": "code",
   "execution_count": 18,
   "id": "540dac4d",
   "metadata": {},
   "outputs": [],
   "source": [
    "dt4 = dt4.fillna('0')"
   ]
  },
  {
   "cell_type": "code",
   "execution_count": 19,
   "id": "60e5d147",
   "metadata": {},
   "outputs": [
    {
     "data": {
      "text/html": [
       "<div>\n",
       "<style scoped>\n",
       "    .dataframe tbody tr th:only-of-type {\n",
       "        vertical-align: middle;\n",
       "    }\n",
       "\n",
       "    .dataframe tbody tr th {\n",
       "        vertical-align: top;\n",
       "    }\n",
       "\n",
       "    .dataframe thead th {\n",
       "        text-align: right;\n",
       "    }\n",
       "</style>\n",
       "<table border=\"1\" class=\"dataframe\">\n",
       "  <thead>\n",
       "    <tr style=\"text-align: right;\">\n",
       "      <th></th>\n",
       "      <th>person</th>\n",
       "      <th>personLabel</th>\n",
       "      <th>died</th>\n",
       "      <th>sitelinks</th>\n",
       "      <th>item</th>\n",
       "      <th>itemLabel</th>\n",
       "      <th>firstReleased</th>\n",
       "    </tr>\n",
       "  </thead>\n",
       "  <tbody>\n",
       "    <tr>\n",
       "      <th>0</th>\n",
       "      <td>http://www.wikidata.org/entity/Q17714</td>\n",
       "      <td>Stephen Hawking</td>\n",
       "      <td>2018-03-14T00:00:00Z</td>\n",
       "      <td>191.0</td>\n",
       "      <td>0</td>\n",
       "      <td>0</td>\n",
       "      <td>0</td>\n",
       "    </tr>\n",
       "    <tr>\n",
       "      <th>1</th>\n",
       "      <td>http://www.wikidata.org/entity/Q23505</td>\n",
       "      <td>George H. W. Bush</td>\n",
       "      <td>2018-11-30T00:00:00Z</td>\n",
       "      <td>187.0</td>\n",
       "      <td>0</td>\n",
       "      <td>0</td>\n",
       "      <td>0</td>\n",
       "    </tr>\n",
       "    <tr>\n",
       "      <th>2</th>\n",
       "      <td>http://www.wikidata.org/entity/Q1254</td>\n",
       "      <td>Kofi Annan</td>\n",
       "      <td>2018-08-18T00:00:00Z</td>\n",
       "      <td>165.0</td>\n",
       "      <td>0</td>\n",
       "      <td>0</td>\n",
       "      <td>0</td>\n",
       "    </tr>\n",
       "    <tr>\n",
       "      <th>3</th>\n",
       "      <td>http://www.wikidata.org/entity/Q10390</td>\n",
       "      <td>John McCain</td>\n",
       "      <td>2018-08-25T00:00:00Z</td>\n",
       "      <td>127.0</td>\n",
       "      <td>0</td>\n",
       "      <td>0</td>\n",
       "      <td>0</td>\n",
       "    </tr>\n",
       "    <tr>\n",
       "      <th>4</th>\n",
       "      <td>http://www.wikidata.org/entity/Q125121</td>\n",
       "      <td>Aretha Franklin</td>\n",
       "      <td>2018-08-16T00:00:00Z</td>\n",
       "      <td>108.0</td>\n",
       "      <td>0</td>\n",
       "      <td>0</td>\n",
       "      <td>0</td>\n",
       "    </tr>\n",
       "  </tbody>\n",
       "</table>\n",
       "</div>"
      ],
      "text/plain": [
       "                                   person        personLabel  \\\n",
       "0   http://www.wikidata.org/entity/Q17714    Stephen Hawking   \n",
       "1   http://www.wikidata.org/entity/Q23505  George H. W. Bush   \n",
       "2    http://www.wikidata.org/entity/Q1254         Kofi Annan   \n",
       "3   http://www.wikidata.org/entity/Q10390        John McCain   \n",
       "4  http://www.wikidata.org/entity/Q125121    Aretha Franklin   \n",
       "\n",
       "                   died sitelinks item itemLabel firstReleased  \n",
       "0  2018-03-14T00:00:00Z     191.0    0         0             0  \n",
       "1  2018-11-30T00:00:00Z     187.0    0         0             0  \n",
       "2  2018-08-18T00:00:00Z     165.0    0         0             0  \n",
       "3  2018-08-25T00:00:00Z     127.0    0         0             0  \n",
       "4  2018-08-16T00:00:00Z     108.0    0         0             0  "
      ]
     },
     "execution_count": 19,
     "metadata": {},
     "output_type": "execute_result"
    }
   ],
   "source": [
    "dt4.head()"
   ]
  },
  {
   "cell_type": "code",
   "execution_count": 20,
   "id": "9971b71e",
   "metadata": {},
   "outputs": [
    {
     "data": {
      "text/plain": [
       "Text(0, 0.5, 'Count')"
      ]
     },
     "execution_count": 20,
     "metadata": {},
     "output_type": "execute_result"
    },
    {
     "data": {
      "image/png": "[encoded data removed]",
      "text/plain": [
       "<Figure size 640x480 with 1 Axes>"
      ]
     },
     "metadata": {},
     "output_type": "display_data"
    }
   ],
   "source": [
    "import matplotlib.pyplot as plt\n",
    "counts = dt4['personLabel'].value_counts()\n",
    "\n",
    "# create a bar chart\n",
    "counts.plot(kind='bar')\n",
    "\n",
    "# set the title and axis labels\n",
    "plt.title('personLabel Counts')\n",
    "plt.xlabel('personLabel')\n",
    "plt.ylabel('Count')"
   ]
  },
  {
   "cell_type": "markdown",
   "id": "e0ca950b",
   "metadata": {},
   "source": [
    "# Persons Data"
   ]
  },
  {
   "cell_type": "code",
   "execution_count": null,
   "id": "0cb4ddfb",
   "metadata": {},
   "outputs": [],
   "source": [
    "SELECT ?person ?personLabel ?birthYear ?deathYear ?occupationLabel WHERE {\n",
    "  ?person wdt:P106 wd:Q639669;\n",
    "          wdt:P569 ?birthDate.\n",
    "  OPTIONAL { ?person wdt:P570 ?deathDate. }\n",
    "  BIND(YEAR(?birthDate) as ?birthYear)\n",
    "  BIND(YEAR(?deathDate) as ?deathYear)\n",
    "  SERVICE wikibase:label { bd:serviceParam wikibase:language \"[AUTO_LANGUAGE],en\". }\n",
    "  ?occupation wikibase:directClaim wdt:P106.\n",
    "  ?person wdt:P106 ?occupation.\n",
    "  FILTER(?deathYear > 1920 || !bound(?deathYear))\n",
    "}\n",
    "ORDER BY ?personLabel\n"
   ]
  },
  {
   "cell_type": "code",
   "execution_count": 22,
   "id": "8a8ef106",
   "metadata": {},
   "outputs": [],
   "source": [
    "#Visuailization using viz"
   ]
  },
  {
   "cell_type": "code",
   "execution_count": null,
   "id": "509ca2c5",
   "metadata": {},
   "outputs": [],
   "source": [
    "import networkx as nx\n",
    "import pandas as pd\n",
    "import matplotlib.pyplot as plt\n",
    "\n",
    "# read the CSV file containing jazz musicians from Wikidata\n",
    "df = pd.read_csv('jazz_musicians.csv')\n",
    "\n",
    "# create a NetworkX graph\n",
    "G = nx.Graph()\n",
    "\n",
    "# add nodes for each musician\n",
    "for index, row in df.iterrows():\n",
    "    G.add_node(row['person'], birth_year=row['birthYear'], death_year=row['deathYear'])\n",
    "\n",
    "# add edges between musicians who have collaborated\n",
    "# this assumes that Wikidata contains information about collaborations between musicians\n",
    "for i in range(len(df)):\n",
    "    for j in range(i + 1, len(df)):\n",
    "        if df.iloc[i]['person'] != df.iloc[j]['person']:\n",
    "            # check if the two musicians have collaborated\n",
    "            # this example assumes that collaborations are stored as \"has part\" relationships in Wikidata\n",
    "            if any(item in df.iloc[i]['has_part'] for item in df.iloc[j]['has_part']):\n",
    "                G.add_edge(df.iloc[i]['person'], df.iloc[j]['person'])\n",
    "\n",
    "# set node colors based on whether the musician is still alive or not\n",
    "node_colors = []\n",
    "for node in G.nodes:\n",
    "    if G.nodes[node]['death_year'] is None:\n",
    "        node_colors.append('green')\n",
    "    else:\n",
    "        node_colors.append('red')\n",
    "\n",
    "# draw the graph\n",
    "nx.draw_kamada_kawai(G, with_labels=True, node_color=node_colors)\n",
    "\n",
    "# set the title\n",
    "plt.title\n"
   ]
  },
  {
   "cell_type": "code",
   "execution_count": null,
   "id": "771ec7e4",
   "metadata": {},
   "outputs": [],
   "source": []
  }
 ],
 "metadata": {
  "kernelspec": {
   "display_name": "Python 3 (ipykernel)",
   "language": "python",
   "name": "python3"
  },
  "language_info": {
   "codemirror_mode": {
    "name": "ipython",
    "version": 3
   },
   "file_extension": ".py",
   "mimetype": "text/x-python",
   "name": "python",
   "nbconvert_exporter": "python",
   "pygments_lexer": "ipython3",
   "version": "3.9.13"
  }
 },
 "nbformat": 4,
 "nbformat_minor": 5
}
