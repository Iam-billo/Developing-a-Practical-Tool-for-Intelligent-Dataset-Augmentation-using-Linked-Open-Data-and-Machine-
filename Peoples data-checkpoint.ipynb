{
 "cells": [
  {
   "cell_type": "markdown",
   "id": "eed75529",
   "metadata": {},
   "source": [
    "## People data"
   ]
  },
  {
   "cell_type": "code",
   "execution_count": null,
   "id": "15a62d66",
   "metadata": {},
   "outputs": [],
   "source": [
    "# pip install sparqlwrapper\n",
    "# https://rdflib.github.io/sparqlwrapper/\n",
    "\n",
    "import sys\n",
    "from SPARQLWrapper import SPARQLWrapper, JSON\n",
    "\n",
    "endpoint_url = \"https://query.wikidata.org/sparql\"\n",
    "\n",
    "query = \"\"\"#People deceased in 2018 ordered by the number of sitelinks\n",
    "SELECT ?person ?personLabel ?died ?sitelinks\n",
    "WITH {\n",
    "  SELECT *\n",
    "  WHERE {\n",
    "    ?person wdt:P31 wd:Q5;\n",
    "      wdt:P570 ?died.\n",
    "    FILTER (?died >= \"2018-01-01T00:00:00Z\"^^xsd:dateTime && ?died < \"2019-01-01T00:00:00Z\"^^xsd:dateTime)\n",
    "    ?person wikibase:sitelinks ?sitelinks.\n",
    "  }\n",
    "  ORDER BY desc(?sitelinks)\n",
    "  LIMIT 100\n",
    "} AS %i\n",
    "WHERE {\n",
    "  INCLUDE %i\n",
    "  SERVICE wikibase:label { bd:serviceParam wikibase:language \"[AUTO_LANGUAGE],en\" . }\n",
    "}\n",
    "ORDER BY desc(?sitelinks)\"\"\"\n",
    "\n",
    "\n",
    "def get_results(endpoint_url, query):\n",
    "    user_agent = \"WDQS-example Python/%s.%s\" % (sys.version_info[0], sys.version_info[1])\n",
    "    # TODO adjust user agent; see https://w.wiki/CX6\n",
    "    sparql = SPARQLWrapper(endpoint_url, agent=user_agent)\n",
    "    sparql.setQuery(query)\n",
    "    sparql.setReturnFormat(JSON)\n",
    "    return sparql.query().convert()\n",
    "\n",
    "\n",
    "results = get_results(endpoint_url, query)\n",
    "\n",
    "for result in results[\"results\"][\"bindings\"]:\n",
    "    print(result)\n",
    "s"
   ]
  },
  {
   "cell_type": "markdown",
   "id": "d6807833",
   "metadata": {},
   "source": [
    "## Music (Cultural Data)"
   ]
  },
  {
   "cell_type": "code",
   "execution_count": null,
   "id": "8db01912",
   "metadata": {},
   "outputs": [],
   "source": []
  },
  {
   "cell_type": "markdown",
   "id": "e2c87449",
   "metadata": {},
   "source": [
    "## Movies "
   ]
  },
  {
   "cell_type": "code",
   "execution_count": null,
   "id": "bc5eeb06",
   "metadata": {},
   "outputs": [],
   "source": [
    "#Movies with Bud Spencer\n",
    "SELECT ?item ?itemLabel (MIN(?date) AS ?firstReleased) ?_image\n",
    "WHERE {\n",
    "  ?item wdt:P161 wd:Q221074;\n",
    "        wdt:P577 ?date\n",
    "  SERVICE wikibase:label { bd:serviceParam wikibase:language \"[AUTO_LANGUAGE],en\". }\n",
    "  OPTIONAL { ?item wdt:P18 ?_image. }\n",
    "} GROUP BY ?item ?itemLabel ?_image\n",
    "ORDER BY (?date)"
   ]
  },
  {
   "cell_type": "code",
   "execution_count": null,
   "id": "183c5f12",
   "metadata": {},
   "outputs": [],
   "source": [
    "# pip install sparqlwrapper\n",
    "# https://rdflib.github.io/sparqlwrapper/\n",
    "\n",
    "import sys\n",
    "from SPARQLWrapper import SPARQLWrapper, JSON\n",
    "\n",
    "endpoint_url = \"https://query.wikidata.org/sparql\"\n",
    "\n",
    "query = \"\"\"#Movies and their narrative location on a map\n",
    "#defaultView:Map\n",
    "SELECT ?movie ?movieLabel ?narrative_location ?narrative_locationLabel ?coordinates WHERE {\n",
    "   ?movie wdt:P840 ?narrative_location ;\n",
    "          wdt:P31 wd:Q11424 .\n",
    "   ?narrative_location wdt:P625 ?coordinates .\n",
    "  SERVICE wikibase:label { bd:serviceParam wikibase:language \"[AUTO_LANGUAGE],en\". }\n",
    "}\"\"\"\n",
    "\n",
    "\n",
    "def get_results(endpoint_url, query):\n",
    "    user_agent = \"WDQS-example Python/%s.%s\" % (sys.version_info[0], sys.version_info[1])\n",
    "    # TODO adjust user agent; see https://w.wiki/CX6\n",
    "    sparql = SPARQLWrapper(endpoint_url, agent=user_agent)\n",
    "    sparql.setQuery(query)\n",
    "    sparql.setReturnFormat(JSON)\n",
    "    return sparql.query().convert()\n",
    "\n",
    "\n",
    "results = get_results(endpoint_url, query)\n",
    "\n",
    "for result in results[\"results\"][\"bindings\"]:\n",
    "    print(result)\n"
   ]
  },
  {
   "cell_type": "code",
   "execution_count": null,
   "id": "f6be9c54",
   "metadata": {},
   "outputs": [],
   "source": [
    "#Movies released in 2017\n",
    "SELECT DISTINCT ?item ?itemLabel WHERE {\n",
    "  ?item wdt:P31 wd:Q11424.\n",
    "  ?item wdt:P577 ?pubdate.\n",
    "  FILTER((?pubdate >= \"2017-01-01T00:00:00Z\"^^xsd:dateTime) && (?pubdate <= \"2017-12-31T00:00:00Z\"^^xsd:dateTime))\n",
    "  SERVICE wikibase:label { bd:serviceParam wikibase:language \"[AUTO_LANGUAGE],en\". }\n",
    "}"
   ]
  },
  {
   "cell_type": "code",
   "execution_count": null,
   "id": "1342184b",
   "metadata": {},
   "outputs": [],
   "source": [
    "# pip install sparqlwrapper\n",
    "# https://rdflib.github.io/sparqlwrapper/\n",
    "\n",
    "import sys\n",
    "from SPARQLWrapper import SPARQLWrapper, JSON\n",
    "\n",
    "endpoint_url = \"https://query.wikidata.org/sparql\"\n",
    "\n",
    "query = \"\"\"#Movies released in 2017\n",
    "SELECT DISTINCT ?item ?itemLabel WHERE {\n",
    "  ?item wdt:P31 wd:Q11424.\n",
    "  ?item wdt:P577 ?pubdate.\n",
    "  FILTER((?pubdate >= \"2017-01-01T00:00:00Z\"^^xsd:dateTime) && (?pubdate <= \"2017-12-31T00:00:00Z\"^^xsd:dateTime))\n",
    "  SERVICE wikibase:label { bd:serviceParam wikibase:language \"[AUTO_LANGUAGE],en\". }\n",
    "}\"\"\"\n",
    "\n",
    "\n",
    "def get_results(endpoint_url, query):\n",
    "    user_agent = \"WDQS-example Python/%s.%s\" % (sys.version_info[0], sys.version_info[1])\n",
    "    # TODO adjust user agent; see https://w.wiki/CX6\n",
    "    sparql = SPARQLWrapper(endpoint_url, agent=user_agent)\n",
    "    sparql.setQuery(query)\n",
    "    sparql.setReturnFormat(JSON)\n",
    "    return sparql.query().convert()\n",
    "\n",
    "\n",
    "results = get_results(endpoint_url, query)\n",
    "\n",
    "for result in results[\"results\"][\"bindings\"]:\n",
    "    print(result)\n"
   ]
  }
 ],
 "metadata": {
  "kernelspec": {
   "display_name": "Python 3 (ipykernel)",
   "language": "python",
   "name": "python3"
  },
  "language_info": {
   "codemirror_mode": {
    "name": "ipython",
    "version": 3
   },
   "file_extension": ".py",
   "mimetype": "text/x-python",
   "name": "python",
   "nbconvert_exporter": "python",
   "pygments_lexer": "ipython3",
   "version": "3.9.13"
  }
 },
 "nbformat": 4,
 "nbformat_minor": 5
}
